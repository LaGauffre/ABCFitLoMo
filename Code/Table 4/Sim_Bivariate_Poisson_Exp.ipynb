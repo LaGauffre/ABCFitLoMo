{
 "cells": [
  {
   "cell_type": "code",
   "execution_count": 1,
   "id": "417b957e",
   "metadata": {
    "execution": {
     "iopub.execute_input": "2021-06-24T09:47:06.366468Z",
     "iopub.status.busy": "2021-06-24T09:47:06.365368Z",
     "iopub.status.idle": "2021-06-24T09:47:06.891870Z",
     "shell.execute_reply": "2021-06-24T09:47:06.892073Z"
    }
   },
   "outputs": [],
   "source": [
    "import os\n",
    "for env in [\"MKL_NUM_THREADS\", \"NUMEXPR_NUM_THREADS\", \"OMP_NUM_THREADS\"]:\n",
    "    os.environ[env] = \"1\"\n",
    "\n",
    "import numpy as np\n",
    "from numpy.random import default_rng\n",
    "import numpy.random as rnd\n",
    "from ttictoc import tic, toc\n",
    "\n",
    "import approxbayescomp as abc"
   ]
  },
  {
   "cell_type": "code",
   "execution_count": 2,
   "id": "dc46d336",
   "metadata": {
    "execution": {
     "iopub.execute_input": "2021-06-24T09:47:06.893686Z",
     "iopub.status.busy": "2021-06-24T09:47:06.893371Z",
     "iopub.status.idle": "2021-06-24T09:47:06.895256Z",
     "shell.execute_reply": "2021-06-24T09:47:06.895436Z"
    }
   },
   "outputs": [
    {
     "name": "stdout",
     "output_type": "stream",
     "text": [
      "ABC version: 0.1.0\n",
      "Python version: 3.8.8 | packaged by conda-forge | (default, Feb 20 2021, 15:50:57) \n",
      "[Clang 11.0.1 ]\n",
      "Numpy version: 1.20.2\n"
     ]
    }
   ],
   "source": [
    "import sys\n",
    "\n",
    "print(\"ABC version:\", abc.__version__)\n",
    "print(\"Python version:\", sys.version)\n",
    "print(\"Numpy version:\", np.__version__)\n",
    "\n",
    "tic()"
   ]
  },
  {
   "cell_type": "code",
   "execution_count": 3,
   "id": "071e9d5e",
   "metadata": {
    "execution": {
     "iopub.execute_input": "2021-06-24T09:47:06.897145Z",
     "iopub.status.busy": "2021-06-24T09:47:06.896865Z",
     "iopub.status.idle": "2021-06-24T09:47:06.897990Z",
     "shell.execute_reply": "2021-06-24T09:47:06.898179Z"
    }
   },
   "outputs": [],
   "source": [
    "numIters = 10\n",
    "popSize = 1000\n",
    "smcArgs = {\"verbose\": True, \"numProcs\": 8}"
   ]
  },
  {
   "cell_type": "code",
   "execution_count": 4,
   "id": "9ba3cbc9",
   "metadata": {
    "execution": {
     "iopub.execute_input": "2021-06-24T09:47:06.901209Z",
     "iopub.status.busy": "2021-06-24T09:47:06.900919Z",
     "iopub.status.idle": "2021-06-24T09:47:07.351902Z",
     "shell.execute_reply": "2021-06-24T09:47:07.352098Z"
    }
   },
   "outputs": [],
   "source": [
    "rg = default_rng(123)\n",
    "\n",
    "sample_sizes = [50, 250]\n",
    "T = sample_sizes[-1]\n",
    "\n",
    "# Frequency-Loss Model\n",
    "sigma = 0.2\n",
    "w1 = 15\n",
    "w2 = 5\n",
    "m1 = 10\n",
    "m2 = 40\n",
    "θ_True = sigma, w1, w2, m1, m2\n",
    "\n",
    "freq = \"bivariate poisson\"\n",
    "sev = \"exponential\"\n",
    "\n",
    "# Aggregation process\n",
    "psi = abc.Psi(\"sum\")\n",
    "\n",
    "claimsData = abc.simulate_claim_data(rg, T, freq, sev, θ_True)\n",
    "\n",
    "xData1 = abc.compute_psi(claimsData[0][0], claimsData[0][1], psi)\n",
    "xData2 = abc.compute_psi(claimsData[1][0], claimsData[1][1], psi)\n",
    "\n",
    "xData = (xData1, xData2)"
   ]
  },
  {
   "cell_type": "code",
   "execution_count": 5,
   "id": "fde8c260",
   "metadata": {
    "execution": {
     "iopub.execute_input": "2021-06-24T09:47:07.355655Z",
     "iopub.status.busy": "2021-06-24T09:47:07.355360Z",
     "iopub.status.idle": "2021-06-24T09:47:07.356475Z",
     "shell.execute_reply": "2021-06-24T09:47:07.356660Z"
    }
   },
   "outputs": [],
   "source": [
    "prior = abc.IndependentUniformPrior([(0, 2), (0, 50), (0, 50), (0, 100), (0, 100)])\n",
    "model = abc.Model(\"bivariate poisson\", \"exponential\", psi, prior)"
   ]
  },
  {
   "cell_type": "code",
   "execution_count": 6,
   "id": "517de317",
   "metadata": {
    "execution": {
     "iopub.execute_input": "2021-06-24T09:47:07.359467Z",
     "iopub.status.busy": "2021-06-24T09:47:07.359112Z",
     "iopub.status.idle": "2021-06-24T09:49:07.487887Z",
     "shell.execute_reply": "2021-06-24T09:49:07.488065Z"
    }
   },
   "outputs": [
    {
     "data": {
      "text/html": [
       "Starting ABC-SMC with population size of 1000 and sample size of 50 (~> 100) on 8 processes.<p>Finished iteration 0, eps = 2851.26, time = 3.0s / 0.0m, ESS = 1000 -> 500, numSims = 1000<p>Finished iteration 1, eps = 1057.47, time = 2.0s / 0.0m, ESS = 1288 -> 500, numSims = 375076<p>Finished iteration 2, eps = 427.70, time = 1.0s / 0.0m, ESS = 1730 -> 500, numSims = 341101<p>Finished iteration 3, eps = 210.67, time = 1.0s / 0.0m, ESS = 1474 -> 500, numSims = 123641<p>Finished iteration 4, eps = 130.91, time = 1.0s / 0.0m, ESS = 1391 -> 500, numSims = 111836<p>Finished iteration 5, eps = 93.12, time = 1.0s / 0.0m, ESS = 1493 -> 500, numSims = 96460<p>Finished iteration 6, eps = 71.33, time = 1.0s / 0.0m, ESS = 1487 -> 500, numSims = 119138<p>Finished iteration 7, eps = 58.38, time = 1.0s / 0.0m, ESS = 1503 -> 500, numSims = 146604<p>Finished iteration 8, eps = 50.33, time = 2.0s / 0.0m, ESS = 1490 -> 500, numSims = 242670<p>Finished iteration 9, eps = 45.03, time = 3.0s / 0.0m, ESS = 1467 -> 500, numSims = 344827<p>Finished iteration 10, eps = 45.03, time = 4.0s / 0.1m, ESS = 1043 -> 416, numSims = 528109"
      ],
      "text/plain": [
       "<IPython.core.display.HTML object>"
      ]
     },
     "metadata": {},
     "output_type": "display_data"
    },
    {
     "name": "stdout",
     "output_type": "stream",
     "text": [
      "Final population dists <= 43.39, ESS = 416\n",
      "CPU times: user 2.5 s, sys: 235 ms, total: 2.74 s\n",
      "Wall time: 18.7 s\n"
     ]
    },
    {
     "data": {
      "text/html": [
       "Starting ABC-SMC with population size of 1000 and sample size of 250 (~> 500) on 8 processes.<p>Finished iteration 0, eps = 2903.44, time = 3.0s / 0.0m, ESS = 1000 -> 500, numSims = 1000<p>Finished iteration 1, eps = 1080.30, time = 12.0s / 0.2m, ESS = 1286 -> 500, numSims = 1078218<p>Finished iteration 2, eps = 442.43, time = 12.0s / 0.2m, ESS = 1825 -> 500, numSims = 941142<p>Finished iteration 3, eps = 252.42, time = 7.0s / 0.1m, ESS = 1581 -> 500, numSims = 169068<p>Finished iteration 4, eps = 136.92, time = 8.0s / 0.1m, ESS = 1364 -> 500, numSims = 198223<p>Finished iteration 5, eps = 152.98, time = 8.0s / 0.1m, ESS = 786 -> 500, numSims = 133855<p>Finished iteration 6, eps = 79.11, time = 8.0s / 0.1m, ESS = 780 -> 500, numSims = 151409<p>Finished iteration 7, eps = 59.95, time = 9.0s / 0.1m, ESS = 1437 -> 500, numSims = 127427<p>Finished iteration 8, eps = 59.56, time = 11.0s / 0.2m, ESS = 824 -> 500, numSims = 144566<p>Finished iteration 9, eps = 53.30, time = 12.0s / 0.2m, ESS = 723 -> 500, numSims = 163530<p>Finished iteration 10, eps = 53.30, time = 13.0s / 0.2m, ESS = 1222 -> 756, numSims = 175041"
      ],
      "text/plain": [
       "<IPython.core.display.HTML object>"
      ]
     },
     "metadata": {},
     "output_type": "display_data"
    },
    {
     "name": "stdout",
     "output_type": "stream",
     "text": [
      "Final population dists <= 43.81, ESS = 756\n",
      "CPU times: user 4 s, sys: 383 ms, total: 4.38 s\n",
      "Wall time: 1min 41s\n"
     ]
    }
   ],
   "source": [
    "params = (\"sigma\", \"w1\", \"w2\", \"m1\", \"m2\")\n",
    "\n",
    "for ss in sample_sizes:\n",
    "    xDataSS = np.vstack([xData1[:ss], xData2[:ss]]).T\n",
    "\n",
    "    %time fit =  abc.smc(numIters, popSize, xDataSS, model, sumstats=abc.wass_2Ddist_ss, distance=abc.wass_2Ddist, **smcArgs)"
   ]
  },
  {
   "cell_type": "code",
   "execution_count": 7,
   "id": "ae6eb33c",
   "metadata": {
    "execution": {
     "iopub.execute_input": "2021-06-24T09:49:07.490082Z",
     "iopub.status.busy": "2021-06-24T09:49:07.489793Z",
     "iopub.status.idle": "2021-06-24T09:49:07.491017Z",
     "shell.execute_reply": "2021-06-24T09:49:07.491168Z"
    }
   },
   "outputs": [
    {
     "name": "stdout",
     "output_type": "stream",
     "text": [
      "Notebook time = 121 secs = 2.01 mins\n"
     ]
    }
   ],
   "source": [
    "elapsed = toc()\n",
    "print(f\"Notebook time = {elapsed:.0f} secs = {elapsed/60:.2f} mins\")"
   ]
  }
 ],
 "metadata": {
  "jupytext": {
   "comment_magics": false,
   "encoding": "# -*- coding: utf-8 -*-",
   "formats": "ipynb,py:light"
  },
  "kernelspec": {
   "display_name": "Python 3",
   "language": "python",
   "name": "python3"
  },
  "language_info": {
   "codemirror_mode": {
    "name": "ipython",
    "version": 3
   },
   "file_extension": ".py",
   "mimetype": "text/x-python",
   "name": "python",
   "nbconvert_exporter": "python",
   "pygments_lexer": "ipython3",
   "version": "3.8.8"
  }
 },
 "nbformat": 4,
 "nbformat_minor": 5
}
