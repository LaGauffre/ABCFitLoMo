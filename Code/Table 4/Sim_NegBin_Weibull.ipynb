{
 "cells": [
  {
   "cell_type": "code",
   "execution_count": 1,
   "metadata": {
    "execution": {
     "iopub.execute_input": "2021-06-24T09:20:01.279244Z",
     "iopub.status.busy": "2021-06-24T09:20:01.278590Z",
     "iopub.status.idle": "2021-06-24T09:20:01.988791Z",
     "shell.execute_reply": "2021-06-24T09:20:01.989003Z"
    },
    "scrolled": true
   },
   "outputs": [],
   "source": [
    "import os\n",
    "for env in [\"MKL_NUM_THREADS\", \"NUMEXPR_NUM_THREADS\", \"OMP_NUM_THREADS\"]:\n",
    "    os.environ[env] = \"1\"\n",
    "\n",
    "import numpy as np\n",
    "from numpy.random import default_rng\n",
    "import numpy.random as rnd\n",
    "from ttictoc import tic, toc\n",
    "\n",
    "import approxbayescomp as abc"
   ]
  },
  {
   "cell_type": "code",
   "execution_count": 2,
   "metadata": {
    "execution": {
     "iopub.execute_input": "2021-06-24T09:20:01.991010Z",
     "iopub.status.busy": "2021-06-24T09:20:01.990665Z",
     "iopub.status.idle": "2021-06-24T09:20:01.992362Z",
     "shell.execute_reply": "2021-06-24T09:20:01.992552Z"
    }
   },
   "outputs": [
    {
     "name": "stdout",
     "output_type": "stream",
     "text": [
      "ABC version: 0.1.0\n",
      "Python version: 3.8.8 | packaged by conda-forge | (default, Feb 20 2021, 15:50:57) \n",
      "[Clang 11.0.1 ]\n",
      "Numpy version: 1.20.2\n"
     ]
    }
   ],
   "source": [
    "import sys\n",
    "\n",
    "print(\"ABC version:\", abc.__version__)\n",
    "print(\"Python version:\", sys.version)\n",
    "print(\"Numpy version:\", np.__version__)\n",
    "\n",
    "tic()"
   ]
  },
  {
   "cell_type": "code",
   "execution_count": 3,
   "metadata": {
    "execution": {
     "iopub.execute_input": "2021-06-24T09:20:01.993952Z",
     "iopub.status.busy": "2021-06-24T09:20:01.993601Z",
     "iopub.status.idle": "2021-06-24T09:20:01.995136Z",
     "shell.execute_reply": "2021-06-24T09:20:01.995335Z"
    }
   },
   "outputs": [],
   "source": [
    "numIters = numItersData = 10\n",
    "popSize = 1000\n",
    "smcArgs = {\"verbose\": True, \"numProcs\": 8}"
   ]
  },
  {
   "cell_type": "markdown",
   "metadata": {},
   "source": [
    "## Inference of a Negative Binomial - Weibull model\n",
    "\n",
    "In this notebook we are are conducting a simulation experiment where the claim frequency are Negative Binomial distributed \n",
    "\n",
    "$$\n",
    "n_s\\underset{\\textbf{i.i.d.}}{\\sim}\\text{Neg-Bin}(\\alpha = 4, p = 2/3),\\text{ }s = 1,\\ldots, 30\n",
    "$$ \n",
    "\n",
    "and the individual claim sizes are weibull distributed\n",
    "\n",
    "$$\n",
    "u_1,\\ldots, u_{n_s}\\underset{\\textbf{i.i.d.}}{\\sim}\\text{Weib}(k = 1/2, \\beta = 1),\\text{ }s = 1,\\ldots 30.\n",
    "$$ \n",
    "\n",
    "The available data is aggregated claim sizes in excess of the priority $c=1$ asociated to aa global stop-loss treaty, we have \n",
    "\n",
    "$$\n",
    "x_s = \\left(\\sum_{k = 1}^{n_s}u_k-c\\right)_{+},\\text{ }s = 1,\\ldots, t.\n",
    "$$\n",
    "\n",
    "Our aim is to look into the finite sample performance of our ABC implementation when the model is well specified that is when we assume a negative binomial - weibull model"
   ]
  },
  {
   "cell_type": "code",
   "execution_count": 4,
   "metadata": {
    "execution": {
     "iopub.execute_input": "2021-06-24T09:20:01.998175Z",
     "iopub.status.busy": "2021-06-24T09:20:01.997853Z",
     "iopub.status.idle": "2021-06-24T09:20:02.463738Z",
     "shell.execute_reply": "2021-06-24T09:20:02.464001Z"
    }
   },
   "outputs": [],
   "source": [
    "rg = default_rng(123)\n",
    "\n",
    "sample_sizes = [50, 250]\n",
    "T = sample_sizes[-1]\n",
    "t = np.arange(1, T + 1, 1)\n",
    "\n",
    "# Frequency-Loss Model\n",
    "α, p, k, β = 4, 2 / 3, 1 / 3, 1\n",
    "θ_True = α, p, k, β\n",
    "θ_sev = k, β\n",
    "θ_freq = α, p\n",
    "freq = \"negative binomial\"\n",
    "sev = \"weibull\"\n",
    "\n",
    "# Aggregation process\n",
    "c = 1\n",
    "psi = abc.Psi(\"GSL\", c)\n",
    "\n",
    "freqs, sevs = abc.simulate_claim_data(rg, T, freq, sev, θ_True)\n",
    "xData = abc.compute_psi(freqs, sevs, psi)"
   ]
  },
  {
   "cell_type": "code",
   "execution_count": 5,
   "metadata": {
    "execution": {
     "iopub.execute_input": "2021-06-24T09:20:02.467349Z",
     "iopub.status.busy": "2021-06-24T09:20:02.467041Z",
     "iopub.status.idle": "2021-06-24T09:20:02.468362Z",
     "shell.execute_reply": "2021-06-24T09:20:02.468600Z"
    }
   },
   "outputs": [
    {
     "data": {
      "text/plain": [
       "[23, 130]"
      ]
     },
     "execution_count": 1,
     "metadata": {},
     "output_type": "execute_result"
    }
   ],
   "source": [
    "[np.sum(xData[:ss] > 0) for ss in sample_sizes]"
   ]
  },
  {
   "cell_type": "code",
   "execution_count": 6,
   "metadata": {
    "execution": {
     "iopub.execute_input": "2021-06-24T09:20:02.471726Z",
     "iopub.status.busy": "2021-06-24T09:20:02.471447Z",
     "iopub.status.idle": "2021-06-24T09:20:02.472644Z",
     "shell.execute_reply": "2021-06-24T09:20:02.472899Z"
    }
   },
   "outputs": [],
   "source": [
    "params = (\"α\", \"p\", \"k\", \"β\")\n",
    "prior = abc.IndependentUniformPrior([(0, 10), (1e-3, 1), (1e-1, 10), (0, 20)], params)\n",
    "model = abc.Model(\"negative binomial\", \"weibull\", psi, prior)"
   ]
  },
  {
   "cell_type": "code",
   "execution_count": 7,
   "metadata": {
    "execution": {
     "iopub.execute_input": "2021-06-24T09:20:02.476311Z",
     "iopub.status.busy": "2021-06-24T09:20:02.475986Z",
     "iopub.status.idle": "2021-06-24T09:29:05.868295Z",
     "shell.execute_reply": "2021-06-24T09:29:05.868522Z"
    },
    "lines_to_next_cell": 2
   },
   "outputs": [
    {
     "data": {
      "text/html": [
       "Starting ABC-SMC with population size of 1000 and sample size of 50 (~> 50) on 8 processes.<p>Finished iteration 0, eps = 29.21, time = 4.0s / 0.1m, ESS = 1000 -> 500, numSims = 1000<p>Finished iteration 1, eps = 13.81, time = 1.0s / 0.0m, ESS = 1282 -> 500, numSims = 330353<p>Finished iteration 2, eps = 13.02, time = 1.0s / 0.0m, ESS = 1695 -> 500, numSims = 338204<p>Finished iteration 3, eps = 12.52, time = 1.0s / 0.0m, ESS = 1641 -> 500, numSims = 651099<p>Finished iteration 4, eps = 11.99, time = 2.0s / 0.0m, ESS = 1506 -> 500, numSims = 1231347<p>Finished iteration 5, eps = 11.43, time = 6.0s / 0.1m, ESS = 1496 -> 500, numSims = 2867285<p>Finished iteration 6, eps = 10.80, time = 11.0s / 0.2m, ESS = 1620 -> 500, numSims = 5814058<p>Finished iteration 7, eps = 10.04, time = 22.0s / 0.4m, ESS = 1583 -> 500, numSims = 11838354<p>Finished iteration 8, eps = 9.33, time = 33.0s / 0.5m, ESS = 1377 -> 500, numSims = 17926901<p>Finished iteration 9, eps = 7.90, time = 46.0s / 0.8m, ESS = 1276 -> 500, numSims = 24251867<p>Finished iteration 10, eps = 7.90, time = 34.0s / 0.6m, ESS = 1427 -> 794, numSims = 16939996"
      ],
      "text/plain": [
       "<IPython.core.display.HTML object>"
      ]
     },
     "metadata": {},
     "output_type": "display_data"
    },
    {
     "name": "stdout",
     "output_type": "stream",
     "text": [
      "Final population dists <= 7.28, ESS = 794\n",
      "CPU times: user 6.52 s, sys: 553 ms, total: 7.07 s\n",
      "Wall time: 2min 43s\n"
     ]
    },
    {
     "data": {
      "text/html": [
       "Starting ABC-SMC with population size of 1000 and sample size of 250 (~> 250) on 8 processes.<p>Finished iteration 0, eps = 24.81, time = 0.0s / 0.0m, ESS = 1000 -> 500, numSims = 1000<p>Finished iteration 1, eps = 11.27, time = 5.0s / 0.1m, ESS = 1278 -> 500, numSims = 1541308<p>Finished iteration 2, eps = 10.48, time = 4.0s / 0.1m, ESS = 1707 -> 500, numSims = 1430172<p>Finished iteration 3, eps = 9.94, time = 8.0s / 0.1m, ESS = 1536 -> 500, numSims = 2173091<p>Finished iteration 4, eps = 9.23, time = 14.0s / 0.2m, ESS = 1527 -> 500, numSims = 4009556<p>Finished iteration 5, eps = 8.42, time = 30.0s / 0.5m, ESS = 1634 -> 500, numSims = 8397888<p>Finished iteration 6, eps = 7.46, time = 55.0s / 0.9m, ESS = 1578 -> 500, numSims = 14628770<p>Finished iteration 7, eps = 6.68, time = 79.0s / 1.3m, ESS = 1353 -> 500, numSims = 21605453<p>Finished iteration 8, eps = 5.70, time = 98.0s / 1.6m, ESS = 1198 -> 500, numSims = 28765085<p>Finished iteration 9, eps = 4.99, time = 76.0s / 1.3m, ESS = 1248 -> 500, numSims = 22477327<p>Finished iteration 10, eps = 4.99, time = 12.0s / 0.2m, ESS = 1240 -> 776, numSims = 2656121"
      ],
      "text/plain": [
       "<IPython.core.display.HTML object>"
      ]
     },
     "metadata": {},
     "output_type": "display_data"
    },
    {
     "name": "stdout",
     "output_type": "stream",
     "text": [
      "Final population dists <= 4.55, ESS = 776\n",
      "CPU times: user 11.6 s, sys: 1.02 s, total: 12.6 s\n",
      "Wall time: 6min 20s\n"
     ]
    }
   ],
   "source": [
    "for ss in sample_sizes:\n",
    "    xDataSS = xData[:ss]\n",
    "    %time fit = abc.smc(numIters, popSize, xDataSS, model, **smcArgs)"
   ]
  },
  {
   "cell_type": "code",
   "execution_count": 8,
   "metadata": {
    "execution": {
     "iopub.execute_input": "2021-06-24T09:29:05.871169Z",
     "iopub.status.busy": "2021-06-24T09:29:05.870884Z",
     "iopub.status.idle": "2021-06-24T09:29:05.872050Z",
     "shell.execute_reply": "2021-06-24T09:29:05.872256Z"
    }
   },
   "outputs": [],
   "source": [
    "params = (\"k\", \"β\")\n",
    "prior = abc.IndependentUniformPrior([(1e-1, 10), (0, 20)], params)"
   ]
  },
  {
   "cell_type": "code",
   "execution_count": 9,
   "metadata": {
    "execution": {
     "iopub.execute_input": "2021-06-24T09:29:05.874872Z",
     "iopub.status.busy": "2021-06-24T09:29:05.874516Z",
     "iopub.status.idle": "2021-06-24T09:31:00.782191Z",
     "shell.execute_reply": "2021-06-24T09:31:00.783096Z"
    },
    "lines_to_next_cell": 2
   },
   "outputs": [
    {
     "data": {
      "text/html": [
       "Starting ABC-SMC with population size of 1000 and sample size of 50 (~> 50) on 8 processes.<p>Finished iteration 0, eps = 21.91, time = 0.0s / 0.0m, ESS = 1000 -> 500, numSims = 1000<p>Finished iteration 1, eps = 15.36, time = 2.0s / 0.0m, ESS = 1322 -> 500, numSims = 1047676<p>Finished iteration 2, eps = 14.51, time = 1.0s / 0.0m, ESS = 1966 -> 500, numSims = 567447<p>Finished iteration 3, eps = 12.02, time = 0.0s / 0.0m, ESS = 1852 -> 500, numSims = 31140<p>Finished iteration 4, eps = 10.40, time = 0.0s / 0.0m, ESS = 1713 -> 500, numSims = 39719<p>Finished iteration 5, eps = 8.81, time = 0.0s / 0.0m, ESS = 1702 -> 500, numSims = 78129<p>Finished iteration 6, eps = 6.79, time = 1.0s / 0.0m, ESS = 1530 -> 500, numSims = 155331<p>Finished iteration 7, eps = 5.22, time = 1.0s / 0.0m, ESS = 1394 -> 500, numSims = 390497<p>Finished iteration 8, eps = 3.78, time = 3.0s / 0.0m, ESS = 1549 -> 500, numSims = 887380<p>Finished iteration 9, eps = 2.71, time = 5.0s / 0.1m, ESS = 1733 -> 500, numSims = 1905538<p>Finished iteration 10, eps = 2.71, time = 12.0s / 0.2m, ESS = 1565 -> 886, numSims = 4404921"
      ],
      "text/plain": [
       "<IPython.core.display.HTML object>"
      ]
     },
     "metadata": {},
     "output_type": "display_data"
    },
    {
     "name": "stdout",
     "output_type": "stream",
     "text": [
      "Final population dists <= 2.44, ESS = 886\n",
      "CPU times: user 2.29 s, sys: 135 ms, total: 2.42 s\n",
      "Wall time: 26.3 s\n"
     ]
    },
    {
     "data": {
      "text/html": [
       "Starting ABC-SMC with population size of 1000 and sample size of 250 (~> 250) on 8 processes.<p>Finished iteration 0, eps = 17.37, time = 0.0s / 0.0m, ESS = 1000 -> 500, numSims = 1000<p>Finished iteration 1, eps = 13.81, time = 10.0s / 0.2m, ESS = 1322 -> 500, numSims = 3354670<p>Finished iteration 2, eps = 12.50, time = 14.0s / 0.2m, ESS = 1974 -> 500, numSims = 5223130<p>Finished iteration 3, eps = 7.76, time = 0.0s / 0.0m, ESS = 1927 -> 500, numSims = 57207<p>Finished iteration 4, eps = 5.12, time = 0.0s / 0.0m, ESS = 1831 -> 500, numSims = 51694<p>Finished iteration 5, eps = 3.97, time = 0.0s / 0.0m, ESS = 1754 -> 500, numSims = 91934<p>Finished iteration 6, eps = 3.21, time = 1.0s / 0.0m, ESS = 1722 -> 500, numSims = 199771<p>Finished iteration 7, eps = 2.67, time = 2.0s / 0.0m, ESS = 1765 -> 500, numSims = 504110<p>Finished iteration 8, eps = 2.33, time = 5.0s / 0.1m, ESS = 1751 -> 500, numSims = 1125477<p>Finished iteration 9, eps = 2.04, time = 14.0s / 0.2m, ESS = 1727 -> 500, numSims = 2848021<p>Finished iteration 10, eps = 2.04, time = 40.0s / 0.7m, ESS = 1780 -> 908, numSims = 7581758"
      ],
      "text/plain": [
       "<IPython.core.display.HTML object>"
      ]
     },
     "metadata": {},
     "output_type": "display_data"
    },
    {
     "name": "stdout",
     "output_type": "stream",
     "text": [
      "Final population dists <= 1.95, ESS = 908\n",
      "CPU times: user 2.75 s, sys: 183 ms, total: 2.93 s\n",
      "Wall time: 1min 28s\n"
     ]
    }
   ],
   "source": [
    "for ss in sample_sizes:\n",
    "    xDataSS = xData[:ss]\n",
    "    nData = freqs[:ss]\n",
    "\n",
    "    model = abc.Model(nData, \"weibull\", psi, prior)\n",
    "\n",
    "    %time fit = abc.smc(numItersData, popSize, xDataSS, model, **smcArgs)"
   ]
  },
  {
   "cell_type": "code",
   "execution_count": 10,
   "metadata": {
    "execution": {
     "iopub.execute_input": "2021-06-24T09:31:00.786156Z",
     "iopub.status.busy": "2021-06-24T09:31:00.785838Z",
     "iopub.status.idle": "2021-06-24T09:31:00.787039Z",
     "shell.execute_reply": "2021-06-24T09:31:00.787269Z"
    }
   },
   "outputs": [
    {
     "name": "stdout",
     "output_type": "stream",
     "text": [
      "Notebook time = 659 secs = 10.98 mins\n"
     ]
    }
   ],
   "source": [
    "elapsed = toc()\n",
    "print(f\"Notebook time = {elapsed:.0f} secs = {elapsed/60:.2f} mins\")"
   ]
  }
 ],
 "metadata": {
  "jupytext": {
   "comment_magics": false,
   "encoding": "# -*- coding: utf-8 -*-",
   "formats": "ipynb,py:light"
  },
  "kernelspec": {
   "display_name": "Python 3",
   "language": "python",
   "name": "python3"
  },
  "language_info": {
   "codemirror_mode": {
    "name": "ipython",
    "version": 3
   },
   "file_extension": ".py",
   "mimetype": "text/x-python",
   "name": "python",
   "nbconvert_exporter": "python",
   "pygments_lexer": "ipython3",
   "version": "3.8.8"
  }
 },
 "nbformat": 4,
 "nbformat_minor": 4
}
