{
 "cells": [
  {
   "cell_type": "code",
   "execution_count": 1,
   "metadata": {
    "execution": {
     "iopub.execute_input": "2021-06-24T09:24:26.103462Z",
     "iopub.status.busy": "2021-06-24T09:24:26.102890Z",
     "iopub.status.idle": "2021-06-24T09:24:27.130567Z",
     "shell.execute_reply": "2021-06-24T09:24:27.130008Z"
    },
    "scrolled": true
   },
   "outputs": [],
   "source": [
    "import os\n",
    "for env in [\"MKL_NUM_THREADS\", \"NUMEXPR_NUM_THREADS\", \"OMP_NUM_THREADS\"]:\n",
    "    os.environ[env] = \"1\"\n",
    "\n",
    "import numpy as np\n",
    "from numpy.random import default_rng\n",
    "import numpy.random as rnd\n",
    "from ttictoc import tic, toc\n",
    "\n",
    "import approxbayescomp as abc"
   ]
  },
  {
   "cell_type": "code",
   "execution_count": 2,
   "metadata": {
    "execution": {
     "iopub.execute_input": "2021-06-24T09:24:27.134495Z",
     "iopub.status.busy": "2021-06-24T09:24:27.134014Z",
     "iopub.status.idle": "2021-06-24T09:24:27.136541Z",
     "shell.execute_reply": "2021-06-24T09:24:27.136953Z"
    }
   },
   "outputs": [
    {
     "name": "stdout",
     "output_type": "stream",
     "text": [
      "ABC version: 0.1.0\n",
      "Python version: 3.8.10 | packaged by conda-forge | (default, May 11 2021, 06:25:29) \n",
      "[GCC 9.3.0]\n",
      "Numpy version: 1.21.0\n"
     ]
    }
   ],
   "source": [
    "import sys\n",
    "\n",
    "print(\"ABC version:\", abc.__version__)\n",
    "print(\"Python version:\", sys.version)\n",
    "print(\"Numpy version:\", np.__version__)\n",
    "\n",
    "tic()"
   ]
  },
  {
   "cell_type": "code",
   "execution_count": 3,
   "metadata": {
    "execution": {
     "iopub.execute_input": "2021-06-24T09:24:27.140061Z",
     "iopub.status.busy": "2021-06-24T09:24:27.139583Z",
     "iopub.status.idle": "2021-06-24T09:24:27.141198Z",
     "shell.execute_reply": "2021-06-24T09:24:27.141583Z"
    }
   },
   "outputs": [],
   "source": [
    "numIters = numItersData = 10\n",
    "popSize = 1000\n",
    "smcArgs = {\"verbose\": True, \"numProcs\": 64}"
   ]
  },
  {
   "cell_type": "markdown",
   "metadata": {},
   "source": [
    "## Inference of a Poison- Frequency Dependent Exponential model\n",
    "\n",
    "In this notebook we are are conducting a simulation experiment where the claim frequency are Negative Binomial distributed \n",
    "\n",
    "$$\n",
    "n_s\\underset{\\textbf{i.i.d.}}{\\sim}\\text{Pois}(\\lambda = 5),\\text{ }s = 1,\\ldots, 30\n",
    "$$ \n",
    "\n",
    "and the individual claim sizes are freqency dependent exponential which means that \n",
    "\n",
    "$$\n",
    "u_1,\\ldots, u_{n_s}|n_s\\underset{\\textbf{i.i.d.}}{\\sim}\\text{Exp}(\\beta\\times e^{\\delta n_s}),\\text{ }s = 1,\\ldots 30,\n",
    "$$ \n",
    "where we set $\\beta = 2$ and $\\delta = 0.2$.\n",
    "\n",
    "The available data is the total claim sizes, we have \n",
    "\n",
    "$$\n",
    "x_s = \\sum_{k = 1}^{n_s}u_k,\\text{ }s = 1,\\ldots, t.\n",
    "$$\n",
    "\n",
    "Our aim is to see if ABC is able to fit this model featuring dependency between claim counts and claim frequency. "
   ]
  },
  {
   "cell_type": "code",
   "execution_count": 4,
   "metadata": {
    "execution": {
     "iopub.execute_input": "2021-06-24T09:24:27.146734Z",
     "iopub.status.busy": "2021-06-24T09:24:27.146143Z",
     "iopub.status.idle": "2021-06-24T09:24:28.322558Z",
     "shell.execute_reply": "2021-06-24T09:24:28.321995Z"
    }
   },
   "outputs": [],
   "source": [
    "rg = default_rng(123)\n",
    "\n",
    "sample_sizes = [50, 250]\n",
    "T = sample_sizes[-1]\n",
    "t = np.arange(1, T + 1, 1)\n",
    "\n",
    "# Frequency-Loss Model\n",
    "λ, β, δ = 4, 2, 0.2\n",
    "θ_True = λ, β, δ\n",
    "θ_sev = β, δ\n",
    "θ_freq = λ\n",
    "sev = \"frequency dependent exponential\"\n",
    "freq = \"poisson\"\n",
    "\n",
    "# Aggregation process\n",
    "psi = abc.Psi(\"sum\")\n",
    "\n",
    "freqs, sevs = abc.simulate_claim_data(rg, T, freq, sev, θ_True)\n",
    "xData = abc.compute_psi(freqs, sevs, psi)"
   ]
  },
  {
   "cell_type": "code",
   "execution_count": 5,
   "metadata": {
    "execution": {
     "iopub.execute_input": "2021-06-24T09:24:28.328714Z",
     "iopub.status.busy": "2021-06-24T09:24:28.328152Z",
     "iopub.status.idle": "2021-06-24T09:24:28.330611Z",
     "shell.execute_reply": "2021-06-24T09:24:28.331017Z"
    }
   },
   "outputs": [
    {
     "data": {
      "text/plain": [
       "[47, 245]"
      ]
     },
     "execution_count": 5,
     "metadata": {},
     "output_type": "execute_result"
    }
   ],
   "source": [
    "[np.sum(xData[:ss] > 0) for ss in sample_sizes]"
   ]
  },
  {
   "cell_type": "code",
   "execution_count": 6,
   "metadata": {
    "execution": {
     "iopub.execute_input": "2021-06-24T09:24:28.336877Z",
     "iopub.status.busy": "2021-06-24T09:24:28.336386Z",
     "iopub.status.idle": "2021-06-24T09:24:28.338054Z",
     "shell.execute_reply": "2021-06-24T09:24:28.338419Z"
    }
   },
   "outputs": [],
   "source": [
    "params = (\"λ\", \"β\", \"δ\")\n",
    "prior = abc.IndependentUniformPrior([(0, 10), (0, 20), (-1, 1)], params)\n",
    "model = abc.Model(\"poisson\", \"frequency dependent exponential\", psi, prior)"
   ]
  },
  {
   "cell_type": "code",
   "execution_count": 7,
   "metadata": {
    "execution": {
     "iopub.execute_input": "2021-06-24T09:24:28.345263Z",
     "iopub.status.busy": "2021-06-24T09:24:28.344794Z",
     "iopub.status.idle": "2021-06-24T09:26:26.237581Z",
     "shell.execute_reply": "2021-06-24T09:26:26.238027Z"
    },
    "lines_to_next_cell": 2
   },
   "outputs": [
    {
     "data": {
      "text/html": [
       "Starting ABC-SMC with population size of 1000 and sample size of 50 (~> 50) on 64 processes.<p>Finished iteration 0, eps = 18.60, time = 7.0s / 0.1m, ESS = 1000 -> 500, numSims = 1000<p>Finished iteration 1, eps = 12.39, time = 2.0s / 0.0m, ESS = 1313 -> 500, numSims = 97091<p>Finished iteration 2, eps = 7.89, time = 2.0s / 0.0m, ESS = 1885 -> 500, numSims = 74726<p>Finished iteration 3, eps = 6.32, time = 2.0s / 0.0m, ESS = 1742 -> 500, numSims = 34417<p>Finished iteration 4, eps = 5.42, time = 2.0s / 0.0m, ESS = 1567 -> 500, numSims = 70621<p>Finished iteration 5, eps = 4.72, time = 2.0s / 0.0m, ESS = 1356 -> 500, numSims = 119333<p>Finished iteration 6, eps = 4.15, time = 2.0s / 0.0m, ESS = 1167 -> 500, numSims = 166725<p>Finished iteration 7, eps = 3.62, time = 3.0s / 0.0m, ESS = 1229 -> 500, numSims = 238302<p>Finished iteration 8, eps = 3.27, time = 4.0s / 0.1m, ESS = 1197 -> 500, numSims = 351610<p>Finished iteration 9, eps = 2.92, time = 8.0s / 0.1m, ESS = 1297 -> 500, numSims = 681378<p>Finished iteration 10, eps = 2.92, time = 16.0s / 0.3m, ESS = 1328 -> 559, numSims = 1356412"
      ],
      "text/plain": [
       "<IPython.core.display.HTML object>"
      ]
     },
     "metadata": {},
     "output_type": "display_data"
    },
    {
     "name": "stdout",
     "output_type": "stream",
     "text": [
      "Final population dists <= 2.80, ESS = 559\n",
      "CPU times: user 20.5 s, sys: 1.27 s, total: 21.8 s\n",
      "Wall time: 50.5 s\n"
     ]
    },
    {
     "data": {
      "text/html": [
       "Starting ABC-SMC with population size of 1000 and sample size of 250 (~> 250) on 64 processes.<p>Finished iteration 0, eps = 24.33, time = 1.0s / 0.0m, ESS = 1000 -> 500, numSims = 1000<p>Finished iteration 1, eps = 17.66, time = 4.0s / 0.1m, ESS = 1315 -> 500, numSims = 152143<p>Finished iteration 2, eps = 11.12, time = 5.0s / 0.1m, ESS = 1925 -> 500, numSims = 126304<p>Finished iteration 3, eps = 9.31, time = 2.0s / 0.0m, ESS = 1744 -> 500, numSims = 34281<p>Finished iteration 4, eps = 7.94, time = 3.0s / 0.0m, ESS = 1595 -> 500, numSims = 65219<p>Finished iteration 5, eps = 5.74, time = 2.0s / 0.0m, ESS = 1556 -> 500, numSims = 42587<p>Finished iteration 6, eps = 3.94, time = 2.0s / 0.0m, ESS = 1633 -> 500, numSims = 44090<p>Finished iteration 7, eps = 3.03, time = 3.0s / 0.0m, ESS = 1560 -> 500, numSims = 45793<p>Finished iteration 8, eps = 2.52, time = 7.0s / 0.1m, ESS = 1396 -> 500, numSims = 95939<p>Finished iteration 9, eps = 2.19, time = 12.0s / 0.2m, ESS = 1453 -> 500, numSims = 192644<p>Finished iteration 10, eps = 2.19, time = 25.0s / 0.4m, ESS = 1563 -> 799, numSims = 431797"
      ],
      "text/plain": [
       "<IPython.core.display.HTML object>"
      ]
     },
     "metadata": {},
     "output_type": "display_data"
    },
    {
     "name": "stdout",
     "output_type": "stream",
     "text": [
      "Final population dists <= 2.06, ESS = 799\n",
      "CPU times: user 13.6 s, sys: 549 ms, total: 14.2 s\n",
      "Wall time: 1min 7s\n"
     ]
    }
   ],
   "source": [
    "for ss in sample_sizes:\n",
    "    xDataSS = xData[:ss]\n",
    "    %time fit = abc.smc(numIters, popSize, xDataSS, model, **smcArgs)"
   ]
  },
  {
   "cell_type": "code",
   "execution_count": 8,
   "metadata": {
    "execution": {
     "iopub.execute_input": "2021-06-24T09:26:26.243369Z",
     "iopub.status.busy": "2021-06-24T09:26:26.242897Z",
     "iopub.status.idle": "2021-06-24T09:26:26.244559Z",
     "shell.execute_reply": "2021-06-24T09:26:26.244926Z"
    }
   },
   "outputs": [],
   "source": [
    "params = (\"β\", \"δ\")\n",
    "prior = abc.IndependentUniformPrior([(0, 20), (-1, 1)], params)"
   ]
  },
  {
   "cell_type": "code",
   "execution_count": 9,
   "metadata": {
    "execution": {
     "iopub.execute_input": "2021-06-24T09:26:26.249715Z",
     "iopub.status.busy": "2021-06-24T09:26:26.249224Z",
     "iopub.status.idle": "2021-06-24T09:27:03.617813Z",
     "shell.execute_reply": "2021-06-24T09:27:03.617353Z"
    },
    "lines_to_next_cell": 2
   },
   "outputs": [
    {
     "data": {
      "text/html": [
       "Starting ABC-SMC with population size of 1000 and sample size of 50 (~> 50) on 64 processes.<p>Finished iteration 0, eps = 18.40, time = 1.0s / 0.0m, ESS = 1000 -> 500, numSims = 1000<p>Finished iteration 1, eps = 13.06, time = 1.0s / 0.0m, ESS = 1313 -> 500, numSims = 2326<p>Finished iteration 2, eps = 8.54, time = 2.0s / 0.0m, ESS = 1895 -> 500, numSims = 2532<p>Finished iteration 3, eps = 7.09, time = 2.0s / 0.0m, ESS = 1837 -> 500, numSims = 4084<p>Finished iteration 4, eps = 6.16, time = 2.0s / 0.0m, ESS = 1793 -> 500, numSims = 9371<p>Finished iteration 5, eps = 4.83, time = 2.0s / 0.0m, ESS = 1584 -> 500, numSims = 14637<p>Finished iteration 6, eps = 3.82, time = 2.0s / 0.0m, ESS = 1617 -> 500, numSims = 5876<p>Finished iteration 7, eps = 3.20, time = 2.0s / 0.0m, ESS = 1837 -> 500, numSims = 6551<p>Finished iteration 8, eps = 2.80, time = 2.0s / 0.0m, ESS = 1769 -> 500, numSims = 14099<p>Finished iteration 9, eps = 2.77, time = 2.0s / 0.0m, ESS = 930 -> 500, numSims = 26735<p>Finished iteration 10, eps = 2.77, time = 2.0s / 0.0m, ESS = 934 -> 871, numSims = 38628"
      ],
      "text/plain": [
       "<IPython.core.display.HTML object>"
      ]
     },
     "metadata": {},
     "output_type": "display_data"
    },
    {
     "name": "stdout",
     "output_type": "stream",
     "text": [
      "Final population dists <= 2.57, ESS = 871\n",
      "CPU times: user 18.4 s, sys: 804 ms, total: 19.2 s\n",
      "Wall time: 18.6 s\n"
     ]
    },
    {
     "data": {
      "text/html": [
       "Starting ABC-SMC with population size of 1000 and sample size of 250 (~> 250) on 64 processes.<p>Finished iteration 0, eps = 24.20, time = 1.0s / 0.0m, ESS = 1000 -> 500, numSims = 1000<p>Finished iteration 1, eps = 17.56, time = 1.0s / 0.0m, ESS = 1315 -> 500, numSims = 2300<p>Finished iteration 2, eps = 10.94, time = 2.0s / 0.0m, ESS = 1906 -> 500, numSims = 2295<p>Finished iteration 3, eps = 9.24, time = 2.0s / 0.0m, ESS = 1793 -> 500, numSims = 3369<p>Finished iteration 4, eps = 7.96, time = 2.0s / 0.0m, ESS = 1715 -> 500, numSims = 7460<p>Finished iteration 5, eps = 5.43, time = 2.0s / 0.0m, ESS = 1786 -> 500, numSims = 2852<p>Finished iteration 6, eps = 3.58, time = 2.0s / 0.0m, ESS = 1838 -> 500, numSims = 2499<p>Finished iteration 7, eps = 2.63, time = 2.0s / 0.0m, ESS = 1680 -> 500, numSims = 2899<p>Finished iteration 8, eps = 2.18, time = 2.0s / 0.0m, ESS = 1662 -> 500, numSims = 4267<p>Finished iteration 9, eps = 1.86, time = 2.0s / 0.0m, ESS = 1796 -> 500, numSims = 8630<p>Finished iteration 10, eps = 1.86, time = 2.0s / 0.0m, ESS = 1800 -> 916, numSims = 17145"
      ],
      "text/plain": [
       "<IPython.core.display.HTML object>"
      ]
     },
     "metadata": {},
     "output_type": "display_data"
    },
    {
     "name": "stdout",
     "output_type": "stream",
     "text": [
      "Final population dists <= 1.78, ESS = 916\n",
      "CPU times: user 18.2 s, sys: 795 ms, total: 19 s\n",
      "Wall time: 18.7 s\n"
     ]
    }
   ],
   "source": [
    "for ss in sample_sizes:\n",
    "    xDataSS = xData[:ss]\n",
    "    nData = freqs[:ss]\n",
    "\n",
    "    model = abc.Model(nData, \"frequency dependent exponential\", psi, prior)\n",
    "\n",
    "    %time fit = abc.smc(numItersData, popSize, xDataSS, model, **smcArgs)"
   ]
  },
  {
   "cell_type": "code",
   "execution_count": 10,
   "metadata": {
    "execution": {
     "iopub.execute_input": "2021-06-24T09:27:03.621169Z",
     "iopub.status.busy": "2021-06-24T09:27:03.620703Z",
     "iopub.status.idle": "2021-06-24T09:27:03.622723Z",
     "shell.execute_reply": "2021-06-24T09:27:03.623133Z"
    }
   },
   "outputs": [
    {
     "name": "stdout",
     "output_type": "stream",
     "text": [
      "Notebook time = 156 secs = 2.61 mins\n"
     ]
    }
   ],
   "source": [
    "elapsed = toc()\n",
    "print(f\"Notebook time = {elapsed:.0f} secs = {elapsed/60:.2f} mins\")"
   ]
  }
 ],
 "metadata": {
  "jupytext": {
   "comment_magics": false,
   "encoding": "# -*- coding: utf-8 -*-",
   "formats": "ipynb,py:light"
  },
  "kernelspec": {
   "display_name": "Python 3",
   "language": "python",
   "name": "python3"
  },
  "language_info": {
   "codemirror_mode": {
    "name": "ipython",
    "version": 3
   },
   "file_extension": ".py",
   "mimetype": "text/x-python",
   "name": "python",
   "nbconvert_exporter": "python",
   "pygments_lexer": "ipython3",
   "version": "3.8.8"
  }
 },
 "nbformat": 4,
 "nbformat_minor": 4
}
