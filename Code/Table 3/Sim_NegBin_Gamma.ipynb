{
 "cells": [
  {
   "cell_type": "code",
   "execution_count": 1,
   "metadata": {
    "execution": {
     "iopub.execute_input": "2021-06-24T09:21:04.018348Z",
     "iopub.status.busy": "2021-06-24T09:21:04.012515Z",
     "iopub.status.idle": "2021-06-24T09:21:05.037923Z",
     "shell.execute_reply": "2021-06-24T09:21:05.037318Z"
    },
    "scrolled": true
   },
   "outputs": [],
   "source": [
    "import os\n",
    "for env in [\"MKL_NUM_THREADS\", \"NUMEXPR_NUM_THREADS\", \"OMP_NUM_THREADS\"]:\n",
    "    os.environ[env] = \"1\"\n",
    "\n",
    "import numpy as np\n",
    "from numpy.random import default_rng\n",
    "import numpy.random as rnd\n",
    "from ttictoc import tic, toc\n",
    "\n",
    "import approxbayescomp as abc"
   ]
  },
  {
   "cell_type": "code",
   "execution_count": 2,
   "metadata": {
    "execution": {
     "iopub.execute_input": "2021-06-24T09:21:05.041795Z",
     "iopub.status.busy": "2021-06-24T09:21:05.041279Z",
     "iopub.status.idle": "2021-06-24T09:21:05.043850Z",
     "shell.execute_reply": "2021-06-24T09:21:05.044236Z"
    }
   },
   "outputs": [
    {
     "name": "stdout",
     "output_type": "stream",
     "text": [
      "ABC version: 0.1.0\n",
      "Python version: 3.8.10 | packaged by conda-forge | (default, May 11 2021, 06:25:29) \n",
      "[GCC 9.3.0]\n",
      "Numpy version: 1.21.0\n"
     ]
    }
   ],
   "source": [
    "import sys\n",
    "\n",
    "print(\"ABC version:\", abc.__version__)\n",
    "print(\"Python version:\", sys.version)\n",
    "print(\"Numpy version:\", np.__version__)\n",
    "\n",
    "tic()"
   ]
  },
  {
   "cell_type": "code",
   "execution_count": 3,
   "metadata": {
    "execution": {
     "iopub.execute_input": "2021-06-24T09:21:05.047360Z",
     "iopub.status.busy": "2021-06-24T09:21:05.046883Z",
     "iopub.status.idle": "2021-06-24T09:21:05.048994Z",
     "shell.execute_reply": "2021-06-24T09:21:05.048552Z"
    }
   },
   "outputs": [],
   "source": [
    "numIters = numItersData = 10\n",
    "popSize = 1000\n",
    "smcArgs = {\"verbose\": True, \"numProcs\": 64}"
   ]
  },
  {
   "cell_type": "markdown",
   "metadata": {},
   "source": [
    "## Inference of a Negative Binomial - Weibull model\n",
    "\n",
    "In this notebook we are are conducting a simulation experiment where the claim frequency are Negative Binomial distributed \n",
    "\n",
    "$$\n",
    "n_s\\underset{\\textbf{i.i.d.}}{\\sim}\\text{Neg-Bin}(\\alpha = 4, p = 2/3),\\text{ }s = 1,\\ldots, 30\n",
    "$$ \n",
    "\n",
    "and the individual claim sizes are weibull distributed\n",
    "\n",
    "$$\n",
    "u_1,\\ldots, u_{n_s}\\underset{\\textbf{i.i.d.}}{\\sim}\\text{Weib}(k = 1/2, \\beta = 1),\\text{ }s = 1,\\ldots 30.\n",
    "$$ \n",
    "\n",
    "The available data is aggregated claim sizes in excess of the priority $c=1$ asociated to aa global stop-loss treaty, we have \n",
    "\n",
    "$$\n",
    "x_s = \\left(\\sum_{k = 1}^{n_s}u_k-c\\right)_{+},\\text{ }s = 1,\\ldots, t.\n",
    "$$\n",
    "\n",
    "Our aim is to look into the finite sample performance of our ABC implementation when the model is well specified that is when we assume a negative binomial - weibull model"
   ]
  },
  {
   "cell_type": "code",
   "execution_count": 4,
   "metadata": {
    "execution": {
     "iopub.execute_input": "2021-06-24T09:21:05.054340Z",
     "iopub.status.busy": "2021-06-24T09:21:05.053849Z",
     "iopub.status.idle": "2021-06-24T09:21:06.220337Z",
     "shell.execute_reply": "2021-06-24T09:21:06.219842Z"
    }
   },
   "outputs": [],
   "source": [
    "rg = default_rng(123)\n",
    "\n",
    "sample_sizes = [50, 250]\n",
    "T = sample_sizes[-1]\n",
    "t = np.arange(1, T + 1, 1)\n",
    "\n",
    "# Frequency-Loss Model\n",
    "α, p, k, β = 4, 2 / 3, 1 / 3, 1\n",
    "θ_True = α, p, k, β\n",
    "θ_sev = k, β\n",
    "θ_freq = α, p\n",
    "freq = \"negative binomial\"\n",
    "sev = \"weibull\"\n",
    "\n",
    "# Aggregation process\n",
    "c = 0.25\n",
    "psi = abc.Psi(\"GSL\", c)\n",
    "\n",
    "freqs, sevs = abc.simulate_claim_data(rg, T, freq, sev, θ_True)\n",
    "xData = abc.compute_psi(freqs, sevs, psi)"
   ]
  },
  {
   "cell_type": "code",
   "execution_count": 5,
   "metadata": {
    "execution": {
     "iopub.execute_input": "2021-06-24T09:21:06.226397Z",
     "iopub.status.busy": "2021-06-24T09:21:06.225920Z",
     "iopub.status.idle": "2021-06-24T09:21:06.228261Z",
     "shell.execute_reply": "2021-06-24T09:21:06.228664Z"
    }
   },
   "outputs": [
    {
     "data": {
      "text/plain": [
       "[30, 155]"
      ]
     },
     "execution_count": 5,
     "metadata": {},
     "output_type": "execute_result"
    }
   ],
   "source": [
    "[np.sum(xData[:ss] > 0) for ss in sample_sizes]"
   ]
  },
  {
   "cell_type": "code",
   "execution_count": 6,
   "metadata": {
    "execution": {
     "iopub.execute_input": "2021-06-24T09:21:06.235233Z",
     "iopub.status.busy": "2021-06-24T09:21:06.234751Z",
     "iopub.status.idle": "2021-06-24T09:21:06.236877Z",
     "shell.execute_reply": "2021-06-24T09:21:06.236390Z"
    }
   },
   "outputs": [],
   "source": [
    "params = (\"α\", \"p\", \"r\", \"m\")\n",
    "prior = abc.IndependentUniformPrior([(0, 10), (1e-3, 1), (0, 10), (0, 50)], params)\n",
    "model = abc.Model(\"negative binomial\", \"gamma\", psi, prior)"
   ]
  },
  {
   "cell_type": "code",
   "execution_count": 7,
   "metadata": {
    "execution": {
     "iopub.execute_input": "2021-06-24T09:21:06.243308Z",
     "iopub.status.busy": "2021-06-24T09:21:06.240377Z",
     "iopub.status.idle": "2021-06-24T09:22:08.855913Z",
     "shell.execute_reply": "2021-06-24T09:22:08.855487Z"
    },
    "lines_to_next_cell": 2
   },
   "outputs": [
    {
     "data": {
      "text/html": [
       "Starting ABC-SMC with population size of 1000 and sample size of 50 (~> 50) on 64 processes.<p>Finished iteration 0, eps = 278.54, time = 7.0s / 0.1m, ESS = 1000 -> 500, numSims = 1000<p>Finished iteration 1, eps = 40.17, time = 2.0s / 0.0m, ESS = 1291 -> 500, numSims = 339520<p>Finished iteration 2, eps = 17.41, time = 2.0s / 0.0m, ESS = 1756 -> 500, numSims = 812151<p>Finished iteration 3, eps = 13.67, time = 2.0s / 0.0m, ESS = 1551 -> 500, numSims = 888082<p>Finished iteration 4, eps = 12.71, time = 2.0s / 0.0m, ESS = 1397 -> 500, numSims = 1394765<p>Finished iteration 5, eps = 11.83, time = 2.0s / 0.0m, ESS = 1534 -> 500, numSims = 1099955<p>Finished iteration 6, eps = 11.17, time = 2.0s / 0.0m, ESS = 1638 -> 500, numSims = 809973<p>Finished iteration 7, eps = 10.59, time = 2.0s / 0.0m, ESS = 1494 -> 500, numSims = 1173479<p>Finished iteration 8, eps = 10.03, time = 2.0s / 0.0m, ESS = 1547 -> 500, numSims = 2005678<p>Finished iteration 9, eps = 9.60, time = 3.0s / 0.0m, ESS = 1430 -> 500, numSims = 3122136<p>Finished iteration 10, eps = 9.60, time = 5.0s / 0.1m, ESS = 1296 -> 649, numSims = 5938422"
      ],
      "text/plain": [
       "<IPython.core.display.HTML object>"
      ]
     },
     "metadata": {},
     "output_type": "display_data"
    },
    {
     "name": "stdout",
     "output_type": "stream",
     "text": [
      "Final population dists <= 9.32, ESS = 649\n",
      "CPU times: user 19.4 s, sys: 1.22 s, total: 20.6 s\n",
      "Wall time: 30.9 s\n"
     ]
    },
    {
     "data": {
      "text/html": [
       "Starting ABC-SMC with population size of 1000 and sample size of 250 (~> 250) on 64 processes.<p>Finished iteration 0, eps = 273.00, time = 1.0s / 0.0m, ESS = 1000 -> 500, numSims = 1000<p>Finished iteration 1, eps = 39.52, time = 2.0s / 0.0m, ESS = 1286 -> 500, numSims = 1786096<p>Finished iteration 2, eps = 13.82, time = 2.0s / 0.0m, ESS = 1771 -> 500, numSims = 3252269<p>Finished iteration 3, eps = 10.75, time = 3.0s / 0.0m, ESS = 1612 -> 500, numSims = 3377321<p>Finished iteration 4, eps = 9.85, time = 3.0s / 0.1m, ESS = 1275 -> 500, numSims = 3490177<p>Finished iteration 5, eps = 8.77, time = 2.0s / 0.0m, ESS = 1327 -> 500, numSims = 1680248<p>Finished iteration 6, eps = 7.63, time = 2.0s / 0.0m, ESS = 1600 -> 500, numSims = 1067288<p>Finished iteration 7, eps = 7.19, time = 2.0s / 0.0m, ESS = 1158 -> 500, numSims = 897651<p>Finished iteration 8, eps = 6.61, time = 2.0s / 0.0m, ESS = 1147 -> 500, numSims = 1376726<p>Finished iteration 9, eps = 6.18, time = 3.0s / 0.1m, ESS = 1547 -> 500, numSims = 1989348<p>Finished iteration 10, eps = 6.18, time = 7.0s / 0.1m, ESS = 1606 -> 776, numSims = 4497451"
      ],
      "text/plain": [
       "<IPython.core.display.HTML object>"
      ]
     },
     "metadata": {},
     "output_type": "display_data"
    },
    {
     "name": "stdout",
     "output_type": "stream",
     "text": [
      "Final population dists <= 6.02, ESS = 776\n",
      "CPU times: user 12.9 s, sys: 459 ms, total: 13.3 s\n",
      "Wall time: 31.7 s\n"
     ]
    }
   ],
   "source": [
    "for ss in sample_sizes:\n",
    "    xDataSS = xData[:ss]\n",
    "    %time fit = abc.smc(numIters, popSize, xDataSS, model, **smcArgs)"
   ]
  },
  {
   "cell_type": "code",
   "execution_count": 8,
   "metadata": {
    "execution": {
     "iopub.execute_input": "2021-06-24T09:22:08.861308Z",
     "iopub.status.busy": "2021-06-24T09:22:08.860822Z",
     "iopub.status.idle": "2021-06-24T09:22:08.862964Z",
     "shell.execute_reply": "2021-06-24T09:22:08.862564Z"
    }
   },
   "outputs": [],
   "source": [
    "params = (\"r\", \"m\")\n",
    "prior = abc.IndependentUniformPrior([(0, 10), (0, 50)], params)"
   ]
  },
  {
   "cell_type": "code",
   "execution_count": 9,
   "metadata": {
    "execution": {
     "iopub.execute_input": "2021-06-24T09:22:08.867568Z",
     "iopub.status.busy": "2021-06-24T09:22:08.867094Z",
     "iopub.status.idle": "2021-06-24T09:24:21.572104Z",
     "shell.execute_reply": "2021-06-24T09:24:21.571692Z"
    },
    "lines_to_next_cell": 2
   },
   "outputs": [
    {
     "data": {
      "text/html": [
       "Starting ABC-SMC with population size of 1000 and sample size of 50 (~> 50) on 64 processes.<p>Finished iteration 0, eps = 149.62, time = 1.0s / 0.0m, ESS = 1000 -> 500, numSims = 1000<p>Finished iteration 1, eps = 12.96, time = 1.0s / 0.0m, ESS = 1311 -> 500, numSims = 888490<p>Finished iteration 2, eps = 11.57, time = 2.0s / 0.0m, ESS = 1878 -> 500, numSims = 27438<p>Finished iteration 3, eps = 10.93, time = 2.0s / 0.0m, ESS = 1834 -> 500, numSims = 54199<p>Finished iteration 4, eps = 10.38, time = 2.0s / 0.0m, ESS = 1766 -> 500, numSims = 120699<p>Finished iteration 5, eps = 9.80, time = 2.0s / 0.0m, ESS = 1772 -> 500, numSims = 275473<p>Finished iteration 6, eps = 9.18, time = 2.0s / 0.0m, ESS = 1813 -> 500, numSims = 708045<p>Finished iteration 7, eps = 8.53, time = 2.0s / 0.0m, ESS = 1770 -> 500, numSims = 1570131<p>Finished iteration 8, eps = 8.00, time = 4.0s / 0.1m, ESS = 1650 -> 500, numSims = 4214378<p>Finished iteration 9, eps = 7.42, time = 7.0s / 0.1m, ESS = 1688 -> 500, numSims = 7999838<p>Finished iteration 10, eps = 7.42, time = 15.0s / 0.3m, ESS = 1784 -> 893, numSims = 16830765"
      ],
      "text/plain": [
       "<IPython.core.display.HTML object>"
      ]
     },
     "metadata": {},
     "output_type": "display_data"
    },
    {
     "name": "stdout",
     "output_type": "stream",
     "text": [
      "Final population dists <= 7.13, ESS = 893\n",
      "CPU times: user 19 s, sys: 978 ms, total: 20 s\n",
      "Wall time: 40.3 s\n"
     ]
    },
    {
     "data": {
      "text/html": [
       "Starting ABC-SMC with population size of 1000 and sample size of 250 (~> 250) on 64 processes.<p>Finished iteration 0, eps = 161.98, time = 1.0s / 0.0m, ESS = 1000 -> 500, numSims = 1000<p>Finished iteration 1, eps = 8.88, time = 4.0s / 0.1m, ESS = 1311 -> 500, numSims = 4284652<p>Finished iteration 2, eps = 7.55, time = 1.0s / 0.0m, ESS = 1891 -> 500, numSims = 50049<p>Finished iteration 3, eps = 7.05, time = 2.0s / 0.0m, ESS = 1888 -> 500, numSims = 104059<p>Finished iteration 4, eps = 6.62, time = 2.0s / 0.0m, ESS = 1826 -> 500, numSims = 210397<p>Finished iteration 5, eps = 6.26, time = 2.0s / 0.0m, ESS = 1784 -> 500, numSims = 456416<p>Finished iteration 6, eps = 5.92, time = 2.0s / 0.0m, ESS = 1802 -> 500, numSims = 1123039<p>Finished iteration 7, eps = 5.63, time = 3.0s / 0.1m, ESS = 1816 -> 500, numSims = 2547866<p>Finished iteration 8, eps = 5.34, time = 9.0s / 0.1m, ESS = 1828 -> 500, numSims = 6363487<p>Finished iteration 9, eps = 5.06, time = 21.0s / 0.4m, ESS = 1809 -> 500, numSims = 15247363<p>Finished iteration 10, eps = 5.06, time = 46.0s / 0.8m, ESS = 1652 -> 878, numSims = 35080473"
      ],
      "text/plain": [
       "<IPython.core.display.HTML object>"
      ]
     },
     "metadata": {},
     "output_type": "display_data"
    },
    {
     "name": "stdout",
     "output_type": "stream",
     "text": [
      "Final population dists <= 4.97, ESS = 878\n",
      "CPU times: user 18.5 s, sys: 934 ms, total: 19.5 s\n",
      "Wall time: 1min 32s\n"
     ]
    }
   ],
   "source": [
    "for ss in sample_sizes:\n",
    "    xDataSS = xData[:ss]\n",
    "    nData = freqs[:ss]\n",
    "\n",
    "    model = abc.Model(nData, \"gamma\", psi, prior)\n",
    "\n",
    "    %time fit = abc.smc(numItersData, popSize, xDataSS, model, **smcArgs)"
   ]
  },
  {
   "cell_type": "code",
   "execution_count": 10,
   "metadata": {
    "execution": {
     "iopub.execute_input": "2021-06-24T09:24:21.575495Z",
     "iopub.status.busy": "2021-06-24T09:24:21.575025Z",
     "iopub.status.idle": "2021-06-24T09:24:21.577092Z",
     "shell.execute_reply": "2021-06-24T09:24:21.577515Z"
    }
   },
   "outputs": [
    {
     "name": "stdout",
     "output_type": "stream",
     "text": [
      "Notebook time = 197 secs = 3.28 mins\n"
     ]
    }
   ],
   "source": [
    "elapsed = toc()\n",
    "print(f\"Notebook time = {elapsed:.0f} secs = {elapsed/60:.2f} mins\")"
   ]
  }
 ],
 "metadata": {
  "jupytext": {
   "comment_magics": false,
   "encoding": "# -*- coding: utf-8 -*-",
   "formats": "ipynb,py:light"
  },
  "kernelspec": {
   "display_name": "Python 3",
   "language": "python",
   "name": "python3"
  },
  "language_info": {
   "codemirror_mode": {
    "name": "ipython",
    "version": 3
   },
   "file_extension": ".py",
   "mimetype": "text/x-python",
   "name": "python",
   "nbconvert_exporter": "python",
   "pygments_lexer": "ipython3",
   "version": "3.8.8"
  }
 },
 "nbformat": 4,
 "nbformat_minor": 4
}
