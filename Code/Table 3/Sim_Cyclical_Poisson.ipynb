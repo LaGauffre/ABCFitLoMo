{
 "cells": [
  {
   "cell_type": "code",
   "execution_count": 1,
   "id": "2036387f",
   "metadata": {
    "execution": {
     "iopub.execute_input": "2021-06-24T09:27:52.541326Z",
     "iopub.status.busy": "2021-06-24T09:27:52.540766Z",
     "iopub.status.idle": "2021-06-24T09:27:53.569621Z",
     "shell.execute_reply": "2021-06-24T09:27:53.568968Z"
    }
   },
   "outputs": [],
   "source": [
    "import os\n",
    "for env in [\"MKL_NUM_THREADS\", \"NUMEXPR_NUM_THREADS\", \"OMP_NUM_THREADS\"]:\n",
    "    os.environ[env] = \"1\"\n",
    "\n",
    "import numpy as np\n",
    "from numpy.random import default_rng\n",
    "import numpy.random as rnd\n",
    "from ttictoc import tic, toc\n",
    "\n",
    "import approxbayescomp as abc"
   ]
  },
  {
   "cell_type": "code",
   "execution_count": 2,
   "id": "50e93fc0",
   "metadata": {
    "execution": {
     "iopub.execute_input": "2021-06-24T09:27:53.573407Z",
     "iopub.status.busy": "2021-06-24T09:27:53.572922Z",
     "iopub.status.idle": "2021-06-24T09:27:53.575436Z",
     "shell.execute_reply": "2021-06-24T09:27:53.575849Z"
    }
   },
   "outputs": [
    {
     "name": "stdout",
     "output_type": "stream",
     "text": [
      "ABC version: 0.1.0\n",
      "Python version: 3.8.10 | packaged by conda-forge | (default, May 11 2021, 06:25:29) \n",
      "[GCC 9.3.0]\n",
      "Numpy version: 1.21.0\n"
     ]
    }
   ],
   "source": [
    "import sys\n",
    "\n",
    "print(\"ABC version:\", abc.__version__)\n",
    "print(\"Python version:\", sys.version)\n",
    "print(\"Numpy version:\", np.__version__)\n",
    "\n",
    "tic()"
   ]
  },
  {
   "cell_type": "code",
   "execution_count": 3,
   "id": "c379c687",
   "metadata": {
    "execution": {
     "iopub.execute_input": "2021-06-24T09:27:53.578898Z",
     "iopub.status.busy": "2021-06-24T09:27:53.578429Z",
     "iopub.status.idle": "2021-06-24T09:27:53.580505Z",
     "shell.execute_reply": "2021-06-24T09:27:53.580095Z"
    }
   },
   "outputs": [],
   "source": [
    "numIters = 10\n",
    "popSize = 1000\n",
    "smcArgs = {\"verbose\": True, \"numProcs\": 64}"
   ]
  },
  {
   "cell_type": "markdown",
   "id": "732e7b8a",
   "metadata": {},
   "source": [
    "# Time dependent: nonhomogenous Poisson process with seasonality\n",
    "\n",
    "The claim arrival process is governed by a non homogenous Poisson process $N_t$ with intensity function \n",
    "\n",
    "$$\n",
    "\\lambda(t) = b[\\sin(2\\pi c t) + 1]\n",
    "$$\n",
    "\n",
    "The claim frequency data $n_s,\\,s = 1,\\ldots, t$ correspond to the increments of this non homogeneous Poisson process. These are independent Poisson variables $\\text{Pois}[\\mu(s)]$ with \n",
    "\n",
    "$$\n",
    "\\mu(s) = \\int_{s-1}^s\\lambda(u)du = b + \\frac{b}{2\\pi c}\\left[\\cos(2\\pi(s-1) c) - \\cos(2\\pi s c)\\right],\\quad s = 1,\\ldots, t\n",
    "$$\n",
    "\n"
   ]
  },
  {
   "cell_type": "code",
   "execution_count": 4,
   "id": "03e16990",
   "metadata": {
    "execution": {
     "iopub.execute_input": "2021-06-24T09:27:53.585559Z",
     "iopub.status.busy": "2021-06-24T09:27:53.585060Z",
     "iopub.status.idle": "2021-06-24T09:27:54.762362Z",
     "shell.execute_reply": "2021-06-24T09:27:54.762771Z"
    }
   },
   "outputs": [],
   "source": [
    "rg = default_rng(123)\n",
    "sample_sizes = [50, 250]\n",
    "T = sample_sizes[-1]\n",
    "\n",
    "a, b, c, μ, σ = 1, 5, 1 / 50, 0, 0.5\n",
    "\n",
    "θ_True = a, b, c, μ, σ\n",
    "\n",
    "freq, sev, theta = \"cyclical_poisson\", \"lognormal\", [a, b, c, μ, σ]\n",
    "\n",
    "freqs, sevs = abc.simulate_claim_data(rg, T, freq, sev, theta)\n",
    "\n",
    "# Aggregation process\n",
    "psi = abc.Psi(\"sum\")\n",
    "\n",
    "xData = abc.compute_psi(freqs, sevs, psi)"
   ]
  },
  {
   "cell_type": "code",
   "execution_count": 5,
   "id": "a68554f6",
   "metadata": {
    "execution": {
     "iopub.execute_input": "2021-06-24T09:27:54.770471Z",
     "iopub.status.busy": "2021-06-24T09:27:54.769992Z",
     "iopub.status.idle": "2021-06-24T09:27:54.771650Z",
     "shell.execute_reply": "2021-06-24T09:27:54.772038Z"
    }
   },
   "outputs": [],
   "source": [
    "params = (\"a\", \"b\", \"c\", \"\\mu\", \"\\sigma\")\n",
    "prior = abc.IndependentUniformPrior(\n",
    "    [(0, 50), (0, 50), (1 / 1000, 1 / 10), (-10, 10), (0, 3)]\n",
    ")\n",
    "model = abc.Model(\"cyclical_poisson\", \"lognormal\", psi, prior)"
   ]
  },
  {
   "cell_type": "code",
   "execution_count": 6,
   "id": "06b34095",
   "metadata": {
    "execution": {
     "iopub.execute_input": "2021-06-24T09:27:54.777487Z",
     "iopub.status.busy": "2021-06-24T09:27:54.777004Z",
     "iopub.status.idle": "2021-06-24T09:29:30.934146Z",
     "shell.execute_reply": "2021-06-24T09:29:30.934597Z"
    },
    "tags": []
   },
   "outputs": [
    {
     "data": {
      "text/html": [
       "Starting ABC-SMC with population size of 1000 and sample size of 50 (~> 100) on 64 processes.<p>Finished iteration 0, eps = 241.76, time = 5.0s / 0.1m, ESS = 1000 -> 500, numSims = 1000<p>Finished iteration 1, eps = 6.27, time = 4.0s / 0.1m, ESS = 1288 -> 500, numSims = 3697354<p>Finished iteration 2, eps = 5.39, time = 3.0s / 0.1m, ESS = 1805 -> 500, numSims = 2828178<p>Finished iteration 3, eps = 4.52, time = 1.0s / 0.0m, ESS = 1703 -> 500, numSims = 100196<p>Finished iteration 4, eps = 4.07, time = 1.0s / 0.0m, ESS = 1543 -> 500, numSims = 133527<p>Finished iteration 5, eps = 3.73, time = 2.0s / 0.0m, ESS = 1328 -> 500, numSims = 254258<p>Finished iteration 6, eps = 2.99, time = 2.0s / 0.0m, ESS = 1235 -> 500, numSims = 456047<p>Finished iteration 7, eps = 2.49, time = 2.0s / 0.0m, ESS = 1338 -> 500, numSims = 73337<p>Finished iteration 8, eps = 2.06, time = 2.0s / 0.0m, ESS = 1395 -> 500, numSims = 85354<p>Finished iteration 9, eps = 1.85, time = 2.0s / 0.0m, ESS = 1450 -> 500, numSims = 112846<p>Finished iteration 10, eps = 1.85, time = 2.0s / 0.0m, ESS = 1497 -> 805, numSims = 142501"
      ],
      "text/plain": [
       "<IPython.core.display.HTML object>"
      ]
     },
     "metadata": {},
     "output_type": "display_data"
    },
    {
     "name": "stdout",
     "output_type": "stream",
     "text": [
      "Final population dists <= 1.77, ESS = 805\n",
      "CPU times: user 19.8 s, sys: 1.05 s, total: 20.8 s\n",
      "Wall time: 28.8 s\n"
     ]
    },
    {
     "data": {
      "text/html": [
       "Starting ABC-SMC with population size of 1000 and sample size of 250 (~> 500) on 64 processes.<p>Finished iteration 0, eps = 227.91, time = 1.0s / 0.0m, ESS = 1000 -> 500, numSims = 1000<p>Finished iteration 1, eps = 6.55, time = 15.0s / 0.3m, ESS = 1295 -> 500, numSims = 8540117<p>Finished iteration 2, eps = 5.25, time = 15.0s / 0.2m, ESS = 1827 -> 500, numSims = 6704856<p>Finished iteration 3, eps = 3.76, time = 1.0s / 0.0m, ESS = 1584 -> 500, numSims = 148295<p>Finished iteration 4, eps = 2.63, time = 2.0s / 0.0m, ESS = 1257 -> 500, numSims = 145498<p>Finished iteration 5, eps = 2.09, time = 1.0s / 0.0m, ESS = 1271 -> 500, numSims = 202565<p>Finished iteration 6, eps = 1.89, time = 2.0s / 0.0m, ESS = 1483 -> 500, numSims = 285492<p>Finished iteration 7, eps = 1.83, time = 3.0s / 0.0m, ESS = 1364 -> 500, numSims = 481011<p>Finished iteration 8, eps = 1.79, time = 4.0s / 0.1m, ESS = 1255 -> 500, numSims = 797275<p>Finished iteration 9, eps = 1.75, time = 8.0s / 0.1m, ESS = 1382 -> 500, numSims = 1617794<p>Finished iteration 10, eps = 1.75, time = 15.0s / 0.3m, ESS = 1322 -> 593, numSims = 3677519"
      ],
      "text/plain": [
       "<IPython.core.display.HTML object>"
      ]
     },
     "metadata": {},
     "output_type": "display_data"
    },
    {
     "name": "stdout",
     "output_type": "stream",
     "text": [
      "Final population dists <= 1.73, ESS = 593\n",
      "CPU times: user 18.5 s, sys: 788 ms, total: 19.3 s\n",
      "Wall time: 1min 7s\n",
      "CPU times: user 38.3 s, sys: 1.83 s, total: 40.2 s\n",
      "Wall time: 1min 36s\n"
     ]
    }
   ],
   "source": [
    "%%time \n",
    "AR = 2\n",
    "\n",
    "for ss in sample_sizes:\n",
    "    xDataSS = xData[:ss]\n",
    "\n",
    "    gamma = (np.max(xDataSS) - np.min(xDataSS)) / (ss - 1) * AR\n",
    "\n",
    "    %time fit2 = abc.smc(numIters, popSize, xDataSS, model, sumstats=abc.wrap_ss_curve_matching(gamma),\\\n",
    "                          distance=abc.wass_2Ddist, **smcArgs)"
   ]
  },
  {
   "cell_type": "code",
   "execution_count": 7,
   "id": "ae78f9b2",
   "metadata": {
    "execution": {
     "iopub.execute_input": "2021-06-24T09:29:30.938106Z",
     "iopub.status.busy": "2021-06-24T09:29:30.937625Z",
     "iopub.status.idle": "2021-06-24T09:29:30.939659Z",
     "shell.execute_reply": "2021-06-24T09:29:30.940050Z"
    }
   },
   "outputs": [
    {
     "name": "stdout",
     "output_type": "stream",
     "text": [
      "Notebook time = 97 secs = 1.62 mins\n"
     ]
    }
   ],
   "source": [
    "elapsed = toc()\n",
    "print(f\"Notebook time = {elapsed:.0f} secs = {elapsed/60:.2f} mins\")"
   ]
  }
 ],
 "metadata": {
  "jupytext": {
   "comment_magics": false,
   "encoding": "# -*- coding: utf-8 -*-",
   "formats": "ipynb,py:light"
  },
  "kernelspec": {
   "display_name": "Python 3",
   "language": "python",
   "name": "python3"
  },
  "language_info": {
   "codemirror_mode": {
    "name": "ipython",
    "version": 3
   },
   "file_extension": ".py",
   "mimetype": "text/x-python",
   "name": "python",
   "nbconvert_exporter": "python",
   "pygments_lexer": "ipython3",
   "version": "3.8.8"
  }
 },
 "nbformat": 4,
 "nbformat_minor": 5
}
