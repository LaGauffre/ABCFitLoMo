{
 "cells": [
  {
   "cell_type": "markdown",
   "metadata": {},
   "source": [
    "# Section 2.5\n",
    "\n",
    "Fit of a geometric-exponential model"
   ]
  },
  {
   "cell_type": "code",
   "execution_count": null,
   "metadata": {},
   "outputs": [],
   "source": [
    "%run -i ./preamble.py\n",
    "%config InlineBackend.figure_format = 'retina'\n",
    "%load_ext nb_black"
   ]
  },
  {
   "cell_type": "code",
   "execution_count": null,
   "metadata": {},
   "outputs": [],
   "source": [
    "import sys\n",
    "\n",
    "print(\"Python version:\", sys.version)\n",
    "print(\"Numpy version:\", np.__version__)\n",
    "print(\"PyMC3 version:\", pm.__version__)\n",
    "\n",
    "tic()"
   ]
  },
  {
   "cell_type": "code",
   "execution_count": null,
   "metadata": {},
   "outputs": [],
   "source": [
    "FAST = False\n",
    "\n",
    "if not FAST:\n",
    "    numIters = 10\n",
    "    numItersData = 15\n",
    "    popSize = 1000\n",
    "    timeout = 1000\n",
    "else:\n",
    "    numIters = 4\n",
    "    numItersData = 8\n",
    "    popSize = 100\n",
    "    timeout = 30\n",
    "\n",
    "numProcs = 40\n",
    "smcArgs = {\"numProcs\": numProcs, \"timeout\": timeout, \"verbose\": True}"
   ]
  },
  {
   "cell_type": "code",
   "execution_count": null,
   "metadata": {},
   "outputs": [],
   "source": [
    "# Create a pseudorandom number generator\n",
    "rg = default_rng(1234)\n",
    "\n",
    "# Parameters of the true model\n",
    "freq = \"geometric\"\n",
    "sev = \"exponential\"\n",
    "thetaTrue = (0.8, 5)\n",
    "\n",
    "# Setting the time horizon\n",
    "T = 100\n",
    "\n",
    "# Simulating the claim data\n",
    "freqs, sevs = abcre.simulate_claim_data(rg, T, freq, sev, thetaTrue)\n",
    "\n",
    "# Simulating the observed data\n",
    "psi = abcre.Psi(\"sum\")\n",
    "xData = abcre.compute_psi(freqs, sevs, psi)"
   ]
  },
  {
   "cell_type": "code",
   "execution_count": null,
   "metadata": {},
   "outputs": [],
   "source": [
    "print(\"Number of zeros:\", np.sum(xData == 0))\n",
    "print(\"Mean summands:\", np.mean(sevs))"
   ]
  },
  {
   "cell_type": "markdown",
   "metadata": {},
   "source": [
    "# ABC with Wasserstein posterior samples"
   ]
  },
  {
   "cell_type": "code",
   "execution_count": null,
   "metadata": {},
   "outputs": [],
   "source": [
    "params = (\"p\", \"δ\")\n",
    "prior = abcre.IndependentUniformPrior([(0, 1), (0, 100)], params)\n",
    "model = abcre.Model(freq, sev, psi, prior)"
   ]
  },
  {
   "cell_type": "code",
   "execution_count": null,
   "metadata": {},
   "outputs": [],
   "source": [
    "%time fit = abcre.smc(numIters, popSize, xData, model, **smcArgs)"
   ]
  },
  {
   "cell_type": "markdown",
   "metadata": {},
   "source": [
    "# ABC with summary statistics"
   ]
  },
  {
   "cell_type": "code",
   "execution_count": null,
   "metadata": {},
   "outputs": [],
   "source": [
    "def sumstats_lp_adaptive(x):\n",
    "    return (np.sum(x == 0), np.sum(x))\n",
    "\n",
    "\n",
    "def lp_dist_adaptive(ssData, ssFake, t=0, p=1.0):\n",
    "    numZerosData, sumData = ssData\n",
    "    numZerosFake, sumFake = ssFake\n",
    "    zerosDiff = np.abs(numZerosData - numZerosFake)\n",
    "\n",
    "    # Enforce the zero-matching after a few iterations of SMC\n",
    "    if t >= 5 and zerosDiff != 0:\n",
    "        return np.inf\n",
    "\n",
    "    # For early iterations, just put a penalty on zeros not matching\n",
    "    zerosDiffPenalty = np.exp(t * zerosDiff)\n",
    "    lpDist = np.abs(sumData - sumFake) if p == 1 else (sumData - sumFake) ** p\n",
    "\n",
    "    return zerosDiffPenalty * lpDist"
   ]
  },
  {
   "cell_type": "code",
   "execution_count": null,
   "metadata": {},
   "outputs": [],
   "source": [
    "%%time\n",
    "\n",
    "fitSS = abcre.smc(\n",
    "    numIters,\n",
    "    popSize,\n",
    "    xData,\n",
    "    model,\n",
    "    sumstats=sumstats_lp_adaptive,\n",
    "    distance=lp_dist_adaptive,\n",
    "    **smcArgs\n",
    ")"
   ]
  },
  {
   "cell_type": "markdown",
   "metadata": {},
   "source": [
    "# MCMC posterior"
   ]
  },
  {
   "cell_type": "code",
   "execution_count": null,
   "metadata": {},
   "outputs": [],
   "source": [
    "basic_model = pm.Model()\n",
    "\n",
    "with basic_model:\n",
    "    # Priors for unknown model parameters\n",
    "    p = pm.Uniform(\"p\", 0, 1)\n",
    "    δ = pm.Uniform(\"δ\", 0, 100)\n",
    "\n",
    "    # Log probability of the compound-sum variable\n",
    "    def logp(t0, sumData):\n",
    "        return T * np.log(1 - p) + (T - t0) * np.log(p / δ) - (1 - p) / δ * sumData\n",
    "\n",
    "    exp_surv = pm.DensityDist(\n",
    "        \"X\", logp, observed={\"t0\": np.sum(xData == 0), \"sumData\": np.sum(xData)}\n",
    "    )"
   ]
  },
  {
   "cell_type": "code",
   "execution_count": null,
   "metadata": {},
   "outputs": [],
   "source": [
    "with basic_model:\n",
    "    %time trace = pm.sample(1000, tune=500, chains = 1, random_seed = 1)"
   ]
  },
  {
   "cell_type": "code",
   "execution_count": null,
   "metadata": {},
   "outputs": [],
   "source": [
    "fig, axs = plt.subplots(1, len(params), tight_layout=True)\n",
    "nMCMC = len(trace[\"p\"])\n",
    "\n",
    "for l, param in enumerate(params):\n",
    "    pLims = [prior.marginals[l].isf(1), prior.marginals[l].isf(0)]\n",
    "\n",
    "    abcre.weighted_distplot(fit.samples[:, l], fit.weights, ax=axs[l], hist=False)\n",
    "    abcre.weighted_distplot(fitSS.samples[:, l], fitSS.weights, ax=axs[l], hist=False)\n",
    "    abcre.weighted_distplot(trace[param], np.ones(nMCMC) / nMCMC, ax=axs[l], hist=False)\n",
    "    axs[l].legend([], frameon=False)\n",
    "    axs[l].set_title(\"$\" + param + \"$\")\n",
    "    axs[l].set_yticks([])\n",
    "    axs[l].axvline(thetaTrue[l], color=\"k\", linestyle=\"dashed\", alpha=0.8)\n",
    "\n",
    "sns.despine(left=True)\n",
    "# save_cropped(\"../Figures/geometric-exponential-posterior.pdf\")"
   ]
  },
  {
   "cell_type": "code",
   "execution_count": null,
   "metadata": {},
   "outputs": [],
   "source": []
  }
 ],
 "metadata": {
  "kernelspec": {
   "display_name": "Python 3",
   "language": "python",
   "name": "python3"
  },
  "language_info": {
   "codemirror_mode": {
    "name": "ipython",
    "version": 3
   },
   "file_extension": ".py",
   "mimetype": "text/x-python",
   "name": "python",
   "nbconvert_exporter": "python",
   "pygments_lexer": "ipython3",
   "version": "3.7.7"
  }
 },
 "nbformat": 4,
 "nbformat_minor": 4
}
