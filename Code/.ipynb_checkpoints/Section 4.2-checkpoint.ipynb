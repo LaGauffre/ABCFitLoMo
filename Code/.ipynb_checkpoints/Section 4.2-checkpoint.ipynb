{
 "cells": [
  {
   "cell_type": "markdown",
   "metadata": {},
   "source": [
    "# Section 4.2"
   ]
  },
  {
   "cell_type": "code",
   "execution_count": null,
   "metadata": {
    "scrolled": true
   },
   "outputs": [],
   "source": [
    "%run -i ./preamble.py\n",
    "%config InlineBackend.figure_format = 'retina'\n",
    "%load_ext nb_black"
   ]
  },
  {
   "cell_type": "code",
   "execution_count": null,
   "metadata": {},
   "outputs": [],
   "source": [
    "#dill.load_session(\"Sim_Poisson_Depexp.pkl\")"
   ]
  },
  {
   "cell_type": "code",
   "execution_count": null,
   "metadata": {},
   "outputs": [],
   "source": [
    "import sys\n",
    "\n",
    "print(\"Python version:\", sys.version)\n",
    "print(\"Numpy version:\", np.__version__)\n",
    "print(\"PyMC3 version:\", pm.__version__)\n",
    "\n",
    "tic()"
   ]
  },
  {
   "cell_type": "code",
   "execution_count": null,
   "metadata": {},
   "outputs": [],
   "source": [
    "FAST = False\n",
    "\n",
    "# Processor information and SMC calibration parameters\n",
    "if not FAST:\n",
    "    numIters = 7\n",
    "    numItersData = 10\n",
    "    popSize = 1000\n",
    "    epsMin = 0\n",
    "    timeout = 1000\n",
    "else:\n",
    "    numIters = 5\n",
    "    numItersData = 10\n",
    "    popSize = 500\n",
    "    epsMin = 1\n",
    "    timeout = 30\n",
    "\n",
    "numProcs = 40\n",
    "smcArgs = {\"numProcs\": numProcs, \"timeout\": timeout, \"verbose\": True}"
   ]
  },
  {
   "cell_type": "markdown",
   "metadata": {},
   "source": [
    "## Inference of a Poison- Frequency Dependent Exponential model\n",
    "\n",
    "In this notebook we are are conducting a simulation experiment where the claim frequency are Negative Binomial distributed \n",
    "\n",
    "$$\n",
    "n_s\\underset{\\textbf{i.i.d.}}{\\sim}\\text{Pois}(\\lambda = 5),\\text{ }s = 1,\\ldots, 30\n",
    "$$ \n",
    "\n",
    "and the individual claim sizes are freqency dependent exponential which means that \n",
    "\n",
    "$$\n",
    "u_1,\\ldots, u_{n_s}|n_s\\underset{\\textbf{i.i.d.}}{\\sim}\\text{Exp}(\\beta\\times e^{\\delta n_s}),\\text{ }s = 1,\\ldots 30,\n",
    "$$ \n",
    "where we set $\\beta = 2$ and $\\delta = 0.2$.\n",
    "\n",
    "The available data is the total claim sizes, we have \n",
    "\n",
    "$$\n",
    "x_s = \\sum_{k = 1}^{n_s}u_k,\\text{ }s = 1,\\ldots, t.\n",
    "$$\n",
    "\n",
    "Our aim is to see if ABC is able to fit this model featuring dependency between claim counts and claim frequency. "
   ]
  },
  {
   "cell_type": "code",
   "execution_count": null,
   "metadata": {},
   "outputs": [],
   "source": [
    "rg = Generator(PCG64(123))\n",
    "\n",
    "sample_sizes = [50, 250]\n",
    "T = sample_sizes[-1]\n",
    "t = np.arange(1, T + 1, 1)\n",
    "\n",
    "# Frequency-Loss Model\n",
    "λ, β, δ = 4, 2, 0.2\n",
    "θ_True = λ, β, δ\n",
    "θ_sev = β, δ\n",
    "θ_freq = λ\n",
    "sev = \"frequency dependent exponential\"\n",
    "freq = \"poisson\"\n",
    "\n",
    "# Aggregation process\n",
    "psi = abcre.Psi(\"sum\")\n",
    "\n",
    "freqs, sevs = abcre.simulate_claim_data(rg, T, freq, sev, θ_True)\n",
    "df_full = pd.DataFrame(\n",
    "    {\n",
    "        \"time_period\": np.concatenate([np.repeat(s, freqs[s - 1]) for s in t]),\n",
    "        \"claim_size\": sevs,\n",
    "        \"N\": np.concatenate([np.repeat(freqs[s - 1], freqs[s - 1]) for s in t]),\n",
    "    }\n",
    ")\n",
    "\n",
    "xData = abcre.compute_psi(freqs, sevs, psi)\n",
    "\n",
    "df_agg = pd.DataFrame({\"time_period\": t, \"N\": freqs, \"X\": xData})"
   ]
  },
  {
   "cell_type": "code",
   "execution_count": null,
   "metadata": {},
   "outputs": [],
   "source": [
    "[np.sum(xData[:ss] > 0) for ss in sample_sizes]"
   ]
  },
  {
   "cell_type": "markdown",
   "metadata": {},
   "source": [
    "## True posterior samples\n",
    "\n",
    "We run a Bayesian analysis on the individual claim data and frequency data so as to infer the parameters of the Poisson and dependent exponential distribution. The prior distribution on the parameters are taken as independent uniform distribution (as in the ABC approach). \n",
    "\n",
    "### Fitting a dependent exponential model to the individual loss data"
   ]
  },
  {
   "cell_type": "code",
   "execution_count": null,
   "metadata": {},
   "outputs": [],
   "source": [
    "dfsev = pd.DataFrame({\"ss\": [], \"β\": [], \"δ\": []})\n",
    "\n",
    "for ss in sample_sizes:\n",
    "\n",
    "    fullData = df_full[df_full.time_period <= ss]\n",
    "    print(\"The number of individual claim sizes is \", len(fullData))\n",
    "    with pm.Model() as model:\n",
    "\n",
    "        # Weakly informative priors,\n",
    "        β = pm.Uniform(\"β\", lower=0, upper=10)\n",
    "        δ = pm.Uniform(\"δ\", lower=-1, upper=1)\n",
    "\n",
    "        # Poisson likelihood\n",
    "        u = pm.Exponential(\n",
    "            \"u\",\n",
    "            lam=np.exp(-δ * fullData[\"N\"].values) / β,\n",
    "            observed=fullData[\"claim_size\"].values,\n",
    "        )\n",
    "        %time trace = pm.sample_smc(popSize, random_seed=134)\n",
    "        res = pd.DataFrame(\n",
    "            {\"ss\": np.repeat(ss, popSize), \"β\": trace[\"β\"], \"δ\": trace[\"δ\"],}\n",
    "        )\n",
    "\n",
    "    dfsev = pd.concat([dfsev, res])"
   ]
  },
  {
   "cell_type": "markdown",
   "metadata": {},
   "source": [
    "### Fitting a Poisson model to the claim frequency data"
   ]
  },
  {
   "cell_type": "code",
   "execution_count": null,
   "metadata": {
    "lines_to_end_of_cell_marker": 2
   },
   "outputs": [],
   "source": [
    "dffreq = pd.DataFrame({\"ss\": [], \"λ\": []})\n",
    "\n",
    "for ss in sample_sizes:\n",
    "    nData = df_agg.N[df_agg.time_period <= ss]\n",
    "    with pm.Model() as model_negbin:\n",
    "        λ = pm.Uniform(\"λ\", lower=0, upper=10)\n",
    "        N = pm.Poisson(\"N\", mu=λ, observed=nData)\n",
    "\n",
    "        %time trace = pm.sample_smc(popSize, random_seed=1)\n",
    "        pm.plot_posterior(trace)\n",
    "\n",
    "    res = pd.DataFrame({\"ss\": np.repeat(ss, popSize), \"λ\": trace[\"λ\"]})\n",
    "    dffreq = pd.concat([dffreq, res])"
   ]
  },
  {
   "cell_type": "markdown",
   "metadata": {},
   "source": [
    "We store all the posterior samples in one single data frame"
   ]
  },
  {
   "cell_type": "code",
   "execution_count": null,
   "metadata": {
    "lines_to_next_cell": 2
   },
   "outputs": [],
   "source": [
    "dftrue = pd.concat([dffreq, dfsev.drop(\"ss\", axis=1)], axis=1)\n",
    "dftrue[\"posterior\"] = np.repeat(\"True\", len(dftrue))"
   ]
  },
  {
   "cell_type": "markdown",
   "metadata": {},
   "source": [
    "## ABC posterior for the Poisson - frequency dependent exponential model"
   ]
  },
  {
   "cell_type": "code",
   "execution_count": null,
   "metadata": {},
   "outputs": [],
   "source": [
    "params = (\"λ\", \"β\", \"δ\")\n",
    "prior = abcre.IndependentUniformPrior([(0, 10), (0, 20), (-1, 1)], params)\n",
    "model = abcre.Model(\"poisson\", \"frequency dependent exponential\", psi, prior)"
   ]
  },
  {
   "cell_type": "code",
   "execution_count": null,
   "metadata": {
    "lines_to_next_cell": 2
   },
   "outputs": [],
   "source": [
    "dfABC = pd.DataFrame({\"ss\": [], \"weights\": [], \"λ\": [], \"β\": [], \"δ\": []})\n",
    "\n",
    "for ss in sample_sizes:\n",
    "    xDataSS = df_agg.X[df_agg.time_period <= ss].to_numpy()\n",
    "\n",
    "    %time fit = abcre.smc(numIters, popSize, xDataSS, model, epsMin = epsMin, **smcArgs)\n",
    "\n",
    "    res = pd.DataFrame(\n",
    "        {\n",
    "            \"ss\": np.repeat(ss, popSize),\n",
    "            \"weights\": fit.weights,\n",
    "            \"λ\": fit.samples[:, 0],\n",
    "            \"β\": fit.samples[:, 1],\n",
    "            \"δ\": fit.samples[:, 2],\n",
    "        }\n",
    "    )\n",
    "\n",
    "    dfABC = pd.concat([dfABC, res])"
   ]
  },
  {
   "cell_type": "code",
   "execution_count": null,
   "metadata": {},
   "outputs": [],
   "source": [
    "fig, axs = plt.subplots(1, len(params), tight_layout=True)\n",
    "\n",
    "for l in range(len(params)):\n",
    "    pLims = [prior.marginals[l].isf(1), prior.marginals[l].isf(0)]\n",
    "    # axs[l].set_xlim(pLims)\n",
    "\n",
    "    for k, ss in enumerate(sample_sizes):\n",
    "        sampleData = dfABC.query(\"ss == @ss\")\n",
    "        sample = sampleData[params[l]]\n",
    "        weights = sampleData[\"weights\"]\n",
    "\n",
    "        dataResampled, xs, ys = abcre.resample_and_kde(sample, weights, clip=pLims)\n",
    "        axs[l].plot(xs, ys, label=\"ABC\")\n",
    "\n",
    "    axs[l].axvline(θ_True[l], **trueStyle)\n",
    "    # axs[l].set_title(\"$\" + params + \"$\")\n",
    "    axs[l].set_yticks([])\n",
    "\n",
    "draw_prior(prior, axs)\n",
    "sns.despine(left=True)\n",
    "# save_cropped(\"../Figures/hist-test2-poisson-depexp.pdf\")"
   ]
  },
  {
   "cell_type": "markdown",
   "metadata": {},
   "source": [
    "## ABC posterior for the dependent exponential parameters with the claim frequency"
   ]
  },
  {
   "cell_type": "code",
   "execution_count": null,
   "metadata": {},
   "outputs": [],
   "source": [
    "params = (\"β\", \"δ\")\n",
    "prior = abcre.IndependentUniformPrior([(0, 20), (-1, 1)], params)"
   ]
  },
  {
   "cell_type": "code",
   "execution_count": null,
   "metadata": {
    "lines_to_next_cell": 2
   },
   "outputs": [],
   "source": [
    "dfABC_freq = pd.DataFrame({\"ss\": [], \"weights\": [], \"β\": [], \"δ\": []})\n",
    "\n",
    "for ss in sample_sizes:\n",
    "    xDataSS = df_agg.X[df_agg.time_period <= ss].to_numpy()\n",
    "    nData = np.array(df_agg.N[df_agg.time_period <= ss])\n",
    "\n",
    "    model = abcre.Model(nData, \"frequency dependent exponential\", psi, prior)\n",
    "\n",
    "    %time fit = abcre.smc(numItersData, popSize, xDataSS, model, epsMin = epsMin, **smcArgs)\n",
    "\n",
    "    res = pd.DataFrame(\n",
    "        {\n",
    "            \"ss\": np.repeat(ss, popSize),\n",
    "            \"weights\": fit.weights,\n",
    "            \"β\": fit.samples[:, 0],\n",
    "            \"δ\": fit.samples[:, 1],\n",
    "        }\n",
    "    )\n",
    "\n",
    "    dfABC_freq = pd.concat([dfABC_freq, res])"
   ]
  },
  {
   "cell_type": "code",
   "execution_count": null,
   "metadata": {},
   "outputs": [],
   "source": [
    "fig, axs = plt.subplots(1, len(params), tight_layout=True)\n",
    "\n",
    "alphas = (0.6, 1)\n",
    "\n",
    "for l in range(len(params)):\n",
    "    pLims = [prior.marginals[l].isf(1), prior.marginals[l].isf(0)]\n",
    "\n",
    "    axs[l].axvline(θ_sev[l], **trueStyle)\n",
    "    axs[l].set_yticks([])\n",
    "    for k, ss in enumerate(sample_sizes):\n",
    "\n",
    "        for j, df in enumerate((dfABC, dfABC_freq)):\n",
    "            sampleData = df.query(\"ss == @ss\")\n",
    "            sample = sampleData[params[l]]\n",
    "            weights = sampleData[\"weights\"]\n",
    "\n",
    "            dataResampled, xs, ys = abcre.resample_and_kde(sample, weights, clip=pLims)\n",
    "            axs[l].plot(xs, ys, label=\"ABC\", alpha=alphas[j], c=colors[k])\n",
    "\n",
    "            # axs[l].set_title(\"$\" + params[l] + \"$\")\n",
    "\n",
    "sns.despine(left=True)\n",
    "# save_cropped(\"../Figures/hist-test2-poisson-depexp-both.pdf\")"
   ]
  },
  {
   "cell_type": "code",
   "execution_count": null,
   "metadata": {},
   "outputs": [],
   "source": [
    "elapsed = toc()\n",
    "print(f\"Notebook time = {elapsed:.0f} secs = {elapsed/60:.2f} mins\")"
   ]
  },
  {
   "cell_type": "code",
   "execution_count": null,
   "metadata": {},
   "outputs": [],
   "source": [
    "dill.dump_session(\"Sim_Poisson_Depexp.pkl\")"
   ]
  }
 ],
 "metadata": {
  "jupytext": {
   "encoding": "# -*- coding: utf-8 -*-",
   "formats": "ipynb,py:light"
  },
  "kernelspec": {
   "display_name": "Python 3",
   "language": "python",
   "name": "python3"
  },
  "language_info": {
   "codemirror_mode": {
    "name": "ipython",
    "version": 3
   },
   "file_extension": ".py",
   "mimetype": "text/x-python",
   "name": "python",
   "nbconvert_exporter": "python",
   "pygments_lexer": "ipython3",
   "version": "3.7.7"
  }
 },
 "nbformat": 4,
 "nbformat_minor": 4
}
