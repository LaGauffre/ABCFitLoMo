{
 "cells": [
  {
   "cell_type": "markdown",
   "metadata": {},
   "source": [
    "# Section 3\n",
    "\n",
    "Model selection from lognormal, gamma and weibull when the data is lognormal"
   ]
  },
  {
   "cell_type": "code",
   "execution_count": 1,
   "metadata": {},
   "outputs": [
    {
     "data": {
      "application/javascript": [
       "\n",
       "            setTimeout(function() {\n",
       "                var nbb_cell_id = 1;\n",
       "                var nbb_unformatted_code = \"%run -i ./preamble.py\\n%config InlineBackend.figure_format = 'retina'\\n%load_ext nb_black\";\n",
       "                var nbb_formatted_code = \"%run -i ./preamble.py\\n%config InlineBackend.figure_format = 'retina'\\n%load_ext nb_black\";\n",
       "                var nbb_cells = Jupyter.notebook.get_cells();\n",
       "                for (var i = 0; i < nbb_cells.length; ++i) {\n",
       "                    if (nbb_cells[i].input_prompt_number == nbb_cell_id) {\n",
       "                        if (nbb_cells[i].get_text() == nbb_unformatted_code) {\n",
       "                             nbb_cells[i].set_text(nbb_formatted_code);\n",
       "                        }\n",
       "                        break;\n",
       "                    }\n",
       "                }\n",
       "            }, 500);\n",
       "            "
      ],
      "text/plain": [
       "<IPython.core.display.Javascript object>"
      ]
     },
     "metadata": {},
     "output_type": "display_data"
    }
   ],
   "source": [
    "%run -i ./preamble.py\n",
    "%config InlineBackend.figure_format = 'retina'\n",
    "%load_ext nb_black"
   ]
  },
  {
   "cell_type": "code",
   "execution_count": 2,
   "metadata": {},
   "outputs": [
    {
     "name": "stdout",
     "output_type": "stream",
     "text": [
      "Python version: 3.7.7 (default, May  6 2020, 11:45:54) [MSC v.1916 64 bit (AMD64)]\n",
      "Numpy version: 1.18.5\n",
      "PyMC3 version: 3.9.1\n"
     ]
    },
    {
     "data": {
      "application/javascript": [
       "\n",
       "            setTimeout(function() {\n",
       "                var nbb_cell_id = 2;\n",
       "                var nbb_unformatted_code = \"import sys\\n\\nprint(\\\"Python version:\\\", sys.version)\\nprint(\\\"Numpy version:\\\", np.__version__)\\nprint(\\\"PyMC3 version:\\\", pm.__version__)\\n\\ntic()\";\n",
       "                var nbb_formatted_code = \"import sys\\n\\nprint(\\\"Python version:\\\", sys.version)\\nprint(\\\"Numpy version:\\\", np.__version__)\\nprint(\\\"PyMC3 version:\\\", pm.__version__)\\n\\ntic()\";\n",
       "                var nbb_cells = Jupyter.notebook.get_cells();\n",
       "                for (var i = 0; i < nbb_cells.length; ++i) {\n",
       "                    if (nbb_cells[i].input_prompt_number == nbb_cell_id) {\n",
       "                        if (nbb_cells[i].get_text() == nbb_unformatted_code) {\n",
       "                             nbb_cells[i].set_text(nbb_formatted_code);\n",
       "                        }\n",
       "                        break;\n",
       "                    }\n",
       "                }\n",
       "            }, 500);\n",
       "            "
      ],
      "text/plain": [
       "<IPython.core.display.Javascript object>"
      ]
     },
     "metadata": {},
     "output_type": "display_data"
    }
   ],
   "source": [
    "import sys\n",
    "\n",
    "print(\"Python version:\", sys.version)\n",
    "print(\"Numpy version:\", np.__version__)\n",
    "print(\"PyMC3 version:\", pm.__version__)\n",
    "\n",
    "tic()"
   ]
  },
  {
   "cell_type": "code",
   "execution_count": 3,
   "metadata": {},
   "outputs": [
    {
     "data": {
      "application/javascript": [
       "\n",
       "            setTimeout(function() {\n",
       "                var nbb_cell_id = 3;\n",
       "                var nbb_unformatted_code = \"FAST = True\\n\\n# Processor information and SMC calibration parameters\\nif not FAST:\\n    numItersData = 25\\n    popSize = 1000\\n    popSizeModels = 1000\\n    epsMin = 0\\n    timeout = 1000\\nelse:\\n    numItersData = 3\\n    popSize = 500\\n    popSizeModels = 1000\\n    epsMin = 1\\n    timeout = 30\\n\\nnumProcs = 40\\nsmcArgs = {\\\"numProcs\\\": numProcs, \\\"timeout\\\": timeout, \\\"epsMin\\\": epsMin, \\\"verbose\\\": True}\";\n",
       "                var nbb_formatted_code = \"FAST = True\\n\\n# Processor information and SMC calibration parameters\\nif not FAST:\\n    numItersData = 25\\n    popSize = 1000\\n    popSizeModels = 1000\\n    epsMin = 0\\n    timeout = 1000\\nelse:\\n    numItersData = 3\\n    popSize = 500\\n    popSizeModels = 1000\\n    epsMin = 1\\n    timeout = 30\\n\\nnumProcs = 40\\nsmcArgs = {\\\"numProcs\\\": numProcs, \\\"timeout\\\": timeout, \\\"epsMin\\\": epsMin, \\\"verbose\\\": True}\";\n",
       "                var nbb_cells = Jupyter.notebook.get_cells();\n",
       "                for (var i = 0; i < nbb_cells.length; ++i) {\n",
       "                    if (nbb_cells[i].input_prompt_number == nbb_cell_id) {\n",
       "                        if (nbb_cells[i].get_text() == nbb_unformatted_code) {\n",
       "                             nbb_cells[i].set_text(nbb_formatted_code);\n",
       "                        }\n",
       "                        break;\n",
       "                    }\n",
       "                }\n",
       "            }, 500);\n",
       "            "
      ],
      "text/plain": [
       "<IPython.core.display.Javascript object>"
      ]
     },
     "metadata": {},
     "output_type": "display_data"
    }
   ],
   "source": [
    "FAST = False\n",
    "\n",
    "# Processor information and SMC calibration parameters\n",
    "if not FAST:\n",
    "    numItersData = 25\n",
    "    popSize = 1000\n",
    "    popSizeModels = 1000\n",
    "    epsMin = 0\n",
    "    timeout = 1000\n",
    "else:\n",
    "    numItersData = 3\n",
    "    popSize = 500\n",
    "    popSizeModels = 1000\n",
    "    epsMin = 1\n",
    "    timeout = 30\n",
    "\n",
    "numProcs = 4\n",
    "smcArgs = {\"numProcs\": numProcs, \"timeout\": timeout, \"epsMin\": epsMin, \"verbose\": True}"
   ]
  },
  {
   "cell_type": "markdown",
   "metadata": {},
   "source": [
    "Generation of claim data for all three models, though we only consider the lognormal data."
   ]
  },
  {
   "cell_type": "code",
   "execution_count": 4,
   "metadata": {},
   "outputs": [
    {
     "data": {
      "application/javascript": [
       "\n",
       "            setTimeout(function() {\n",
       "                var nbb_cell_id = 4;\n",
       "                var nbb_unformatted_code = \"from math import gamma\\n\\nrg = Generator(PCG64(123))\\n\\nT = 200\\nsample_sizes = [25, 50, 75, 100, 150, 200]\\n\\nclaim_data = pd.DataFrame(\\n    {\\n        \\\"lognormal\\\": abcre.simulate_claim_sizes(rg, T, \\\"lognormal\\\", (0, 1)),\\n        \\\"gamma\\\": abcre.simulate_claim_sizes(rg, T, \\\"gamma\\\", (np.exp(1 / 2), 1)),\\n        \\\"weibull\\\": abcre.simulate_claim_sizes(\\n            rg, T, \\\"weibull\\\", (1 / 2, np.exp(1 / 2) / gamma(3 / 2))\\n        ),\\n    }\\n)\";\n",
       "                var nbb_formatted_code = \"from math import gamma\\n\\nrg = Generator(PCG64(123))\\n\\nT = 200\\nsample_sizes = [25, 50, 75, 100, 150, 200]\\n\\nclaim_data = pd.DataFrame(\\n    {\\n        \\\"lognormal\\\": abcre.simulate_claim_sizes(rg, T, \\\"lognormal\\\", (0, 1)),\\n        \\\"gamma\\\": abcre.simulate_claim_sizes(rg, T, \\\"gamma\\\", (np.exp(1 / 2), 1)),\\n        \\\"weibull\\\": abcre.simulate_claim_sizes(\\n            rg, T, \\\"weibull\\\", (1 / 2, np.exp(1 / 2) / gamma(3 / 2))\\n        ),\\n    }\\n)\";\n",
       "                var nbb_cells = Jupyter.notebook.get_cells();\n",
       "                for (var i = 0; i < nbb_cells.length; ++i) {\n",
       "                    if (nbb_cells[i].input_prompt_number == nbb_cell_id) {\n",
       "                        if (nbb_cells[i].get_text() == nbb_unformatted_code) {\n",
       "                             nbb_cells[i].set_text(nbb_formatted_code);\n",
       "                        }\n",
       "                        break;\n",
       "                    }\n",
       "                }\n",
       "            }, 500);\n",
       "            "
      ],
      "text/plain": [
       "<IPython.core.display.Javascript object>"
      ]
     },
     "metadata": {},
     "output_type": "display_data"
    }
   ],
   "source": [
    "from math import gamma\n",
    "\n",
    "rg = Generator(PCG64(123))\n",
    "\n",
    "T = 200\n",
    "sample_sizes = [25, 50, 75, 100, 150, 200]\n",
    "\n",
    "claim_data = pd.DataFrame(\n",
    "    {\n",
    "        \"lognormal\": abcre.simulate_claim_sizes(rg, T, \"lognormal\", (0, 1)),\n",
    "        \"gamma\": abcre.simulate_claim_sizes(rg, T, \"gamma\", (np.exp(1 / 2), 1)),\n",
    "        \"weibull\": abcre.simulate_claim_sizes(\n",
    "            rg, T, \"weibull\", (1 / 2, np.exp(1 / 2) / gamma(3 / 2))\n",
    "        ),\n",
    "    }\n",
    ")"
   ]
  },
  {
   "cell_type": "markdown",
   "metadata": {},
   "source": [
    "## ABC model probabilities"
   ]
  },
  {
   "cell_type": "code",
   "execution_count": 5,
   "metadata": {},
   "outputs": [
    {
     "data": {
      "application/javascript": [
       "\n",
       "            setTimeout(function() {\n",
       "                var nbb_cell_id = 5;\n",
       "                var nbb_unformatted_code = \"models_data = [\\\"lognormal\\\"]\\nmodels_fitted = [\\\"gamma\\\", \\\"lognormal\\\", \\\"weibull\\\"]\\n\\npriorG = abcre.IndependentUniformPrior([(0, 5), (0, 100)], (\\\"r\\\", \\\"m\\\"))\\nmodelG = abcre.Model(sev=\\\"gamma\\\", prior=priorG)\\n\\npriorL = abcre.IndependentUniformPrior([(-20, 20), (0, 5)], (\\\"\\u03bc\\\", \\\"\\u03c3\\\"))\\nmodelL = abcre.Model(sev=\\\"lognormal\\\", prior=priorL)\\n\\npriorW = abcre.IndependentUniformPrior([(1e-1, 5), (0, 100)], (\\\"k\\\", \\\"\\u03b4\\\"))\\nmodelW = abcre.Model(sev=\\\"weibull\\\", prior=priorW)\\n\\nmodels = [modelG, modelL, modelW]\";\n",
       "                var nbb_formatted_code = \"models_data = [\\\"lognormal\\\"]\\nmodels_fitted = [\\\"gamma\\\", \\\"lognormal\\\", \\\"weibull\\\"]\\n\\npriorG = abcre.IndependentUniformPrior([(0, 5), (0, 100)], (\\\"r\\\", \\\"m\\\"))\\nmodelG = abcre.Model(sev=\\\"gamma\\\", prior=priorG)\\n\\npriorL = abcre.IndependentUniformPrior([(-20, 20), (0, 5)], (\\\"\\u03bc\\\", \\\"\\u03c3\\\"))\\nmodelL = abcre.Model(sev=\\\"lognormal\\\", prior=priorL)\\n\\npriorW = abcre.IndependentUniformPrior([(1e-1, 5), (0, 100)], (\\\"k\\\", \\\"\\u03b4\\\"))\\nmodelW = abcre.Model(sev=\\\"weibull\\\", prior=priorW)\\n\\nmodels = [modelG, modelL, modelW]\";\n",
       "                var nbb_cells = Jupyter.notebook.get_cells();\n",
       "                for (var i = 0; i < nbb_cells.length; ++i) {\n",
       "                    if (nbb_cells[i].input_prompt_number == nbb_cell_id) {\n",
       "                        if (nbb_cells[i].get_text() == nbb_unformatted_code) {\n",
       "                             nbb_cells[i].set_text(nbb_formatted_code);\n",
       "                        }\n",
       "                        break;\n",
       "                    }\n",
       "                }\n",
       "            }, 500);\n",
       "            "
      ],
      "text/plain": [
       "<IPython.core.display.Javascript object>"
      ]
     },
     "metadata": {},
     "output_type": "display_data"
    }
   ],
   "source": [
    "models_data = [\"lognormal\"]\n",
    "models_fitted = [\"gamma\", \"lognormal\", \"weibull\"]\n",
    "\n",
    "priorG = abcre.IndependentUniformPrior([(0, 5), (0, 100)], (\"r\", \"m\"))\n",
    "modelG = abcre.Model(sev=\"gamma\", prior=priorG)\n",
    "\n",
    "priorL = abcre.IndependentUniformPrior([(-20, 20), (0, 5)], (\"μ\", \"σ\"))\n",
    "modelL = abcre.Model(sev=\"lognormal\", prior=priorL)\n",
    "\n",
    "priorW = abcre.IndependentUniformPrior([(1e-1, 5), (0, 100)], (\"k\", \"δ\"))\n",
    "modelW = abcre.Model(sev=\"weibull\", prior=priorW)\n",
    "\n",
    "models = [modelG, modelL, modelW]"
   ]
  },
  {
   "cell_type": "code",
   "execution_count": 6,
   "metadata": {},
   "outputs": [
    {
     "data": {
      "text/html": [
       "Starting ABC-SMC with population size of 1000 and sample size of 25 (~> 26) on 40 processes.<p>Finished iteration 0, eps = 56.44, time = 20.0s / 0.3m, ESS = [321. 338. 341.], numSims = 1000\n",
       "\tmodel populations = [321, 338, 341], model weights = [0.32 0.34 0.34]<p>Finished iteration 1, eps = 11.38, time = 3.0s / 0.0m, ESS = [223. 351. 393.], numSims = 4566\n",
       "\tmodel populations = [229, 366, 405], model weights = [0.24 0.36 0.4 ]<p>Finished iteration 2, eps = 1.70, time = 3.0s / 0.0m, ESS = [126. 722. 110.], numSims = 4584\n",
       "\tmodel populations = [133, 755, 112], model weights = [0.15 0.71 0.14]<p>Finished iteration 3, eps = 1.69, time = 3.0s / 0.0m, ESS = [ 42. 696. 203.], numSims = 6851\n",
       "\tmodel populations = [69, 720, 211], model weights = [0.1  0.83 0.07]"
      ],
      "text/plain": [
       "<IPython.core.display.HTML object>"
      ]
     },
     "metadata": {},
     "output_type": "display_data"
    },
    {
     "name": "stdout",
     "output_type": "stream",
     "text": [
      "Final population dists <= 1.70, ESS = [ 42. 696. 203.]\n",
      "\tmodel populations = [69, 720, 211], model weights = [0.1  0.83 0.07]\n",
      "Wall time: 28.3 s\n"
     ]
    },
    {
     "data": {
      "text/html": [
       "Starting ABC-SMC with population size of 1000 and sample size of 50 (~> 51) on 40 processes.<p>Finished iteration 0, eps = 58.10, time = 2.0s / 0.0m, ESS = [321. 338. 341.], numSims = 1000\n",
       "\tmodel populations = [321, 338, 341], model weights = [0.32 0.34 0.34]<p>Finished iteration 1, eps = 11.76, time = 3.0s / 0.0m, ESS = [210. 338. 417.], numSims = 4606\n",
       "\tmodel populations = [216, 354, 430], model weights = [0.23 0.35 0.42]<p>Finished iteration 2, eps = 1.81, time = 3.0s / 0.1m, ESS = [135. 709. 110.], numSims = 4590\n",
       "\tmodel populations = [145, 741, 114], model weights = [0.16 0.68 0.15]<p>Finished iteration 3, eps = 1.80, time = 3.0s / 0.1m, ESS = [ 61. 690. 226.], numSims = 6983\n",
       "\tmodel populations = [63, 707, 230], model weights = [0.08 0.83 0.09]"
      ],
      "text/plain": [
       "<IPython.core.display.HTML object>"
      ]
     },
     "metadata": {},
     "output_type": "display_data"
    },
    {
     "name": "stdout",
     "output_type": "stream",
     "text": [
      "Final population dists <= 1.81, ESS = [ 61. 690. 226.]\n",
      "\tmodel populations = [63, 707, 230], model weights = [0.08 0.83 0.09]\n",
      "Wall time: 10.9 s\n"
     ]
    },
    {
     "data": {
      "text/html": [
       "Starting ABC-SMC with population size of 1000 and sample size of 75 (~> 76) on 40 processes.<p>Finished iteration 0, eps = 58.42, time = 2.0s / 0.0m, ESS = [321. 338. 341.], numSims = 1000\n",
       "\tmodel populations = [321, 338, 341], model weights = [0.32 0.34 0.34]<p>Finished iteration 1, eps = 10.00, time = 3.0s / 0.0m, ESS = [208. 366. 390.], numSims = 4478\n",
       "\tmodel populations = [215, 382, 403], model weights = [0.23 0.38 0.4 ]<p>Finished iteration 2, eps = 1.68, time = 3.0s / 0.1m, ESS = [104. 767.  95.], numSims = 4580\n",
       "\tmodel populations = [108, 795, 97], model weights = [0.14 0.73 0.13]<p>Finished iteration 3, eps = 1.66, time = 3.0s / 0.1m, ESS = [ 53. 693. 220.], numSims = 6612\n",
       "\tmodel populations = [63, 710, 227], model weights = [0.1  0.82 0.08]"
      ],
      "text/plain": [
       "<IPython.core.display.HTML object>"
      ]
     },
     "metadata": {},
     "output_type": "display_data"
    },
    {
     "name": "stdout",
     "output_type": "stream",
     "text": [
      "Final population dists <= 1.68, ESS = [ 53. 693. 220.]\n",
      "\tmodel populations = [63, 710, 227], model weights = [0.1  0.82 0.08]\n",
      "Wall time: 11.3 s\n"
     ]
    },
    {
     "data": {
      "text/html": [
       "Starting ABC-SMC with population size of 1000 and sample size of 100 (~> 101) on 40 processes.<p>Finished iteration 0, eps = 58.68, time = 2.0s / 0.0m, ESS = [321. 338. 341.], numSims = 1000\n",
       "\tmodel populations = [321, 338, 341], model weights = [0.32 0.34 0.34]<p>Finished iteration 1, eps = 13.23, time = 3.0s / 0.0m, ESS = [222. 334. 409.], numSims = 4442\n",
       "\tmodel populations = [229, 349, 422], model weights = [0.24 0.34 0.42]<p>Finished iteration 2, eps = 1.61, time = 3.0s / 0.1m, ESS = [125. 710. 126.], numSims = 4567\n",
       "\tmodel populations = [131, 739, 130], model weights = [0.16 0.68 0.16]<p>Finished iteration 3, eps = 1.60, time = 3.0s / 0.1m, ESS = [ 64. 736. 163.], numSims = 6623\n",
       "\tmodel populations = [71, 760, 169], model weights = [0.09 0.84 0.07]"
      ],
      "text/plain": [
       "<IPython.core.display.HTML object>"
      ]
     },
     "metadata": {},
     "output_type": "display_data"
    },
    {
     "name": "stdout",
     "output_type": "stream",
     "text": [
      "Final population dists <= 1.61, ESS = [ 64. 736. 163.]\n",
      "\tmodel populations = [71, 760, 169], model weights = [0.09 0.84 0.07]\n",
      "Wall time: 11 s\n"
     ]
    },
    {
     "data": {
      "text/html": [
       "Starting ABC-SMC with population size of 1000 and sample size of 150 (~> 151) on 40 processes.<p>Finished iteration 0, eps = 58.97, time = 2.0s / 0.0m, ESS = [321. 338. 341.], numSims = 1000\n",
       "\tmodel populations = [321, 338, 341], model weights = [0.32 0.34 0.34]<p>Finished iteration 1, eps = 13.63, time = 3.0s / 0.1m, ESS = [223. 334. 409.], numSims = 4432\n",
       "\tmodel populations = [229, 348, 423], model weights = [0.24 0.34 0.42]<p>Finished iteration 2, eps = 1.71, time = 3.0s / 0.1m, ESS = [132. 700. 123.], numSims = 4164\n",
       "\tmodel populations = [142, 731, 127], model weights = [0.18 0.66 0.17]<p>Finished iteration 3, eps = 1.71, time = 3.0s / 0.1m, ESS = [ 50. 733. 187.], numSims = 6449\n",
       "\tmodel populations = [54, 754, 192], model weights = [0.07 0.85 0.08]"
      ],
      "text/plain": [
       "<IPython.core.display.HTML object>"
      ]
     },
     "metadata": {},
     "output_type": "display_data"
    },
    {
     "name": "stdout",
     "output_type": "stream",
     "text": [
      "Final population dists <= 1.71, ESS = [ 50. 733. 187.]\n",
      "\tmodel populations = [54, 754, 192], model weights = [0.07 0.85 0.08]\n",
      "Wall time: 11.3 s\n"
     ]
    },
    {
     "data": {
      "text/html": [
       "Starting ABC-SMC with population size of 1000 and sample size of 200 (~> 201) on 40 processes.<p>Finished iteration 0, eps = 59.08, time = 2.0s / 0.0m, ESS = [321. 338. 341.], numSims = 1000\n",
       "\tmodel populations = [321, 338, 341], model weights = [0.32 0.34 0.34]<p>Finished iteration 1, eps = 13.97, time = 3.0s / 0.0m, ESS = [221. 328. 416.], numSims = 4531\n",
       "\tmodel populations = [227, 344, 429], model weights = [0.23 0.34 0.42]<p>Finished iteration 2, eps = 1.63, time = 3.0s / 0.1m, ESS = [169. 670. 123.], numSims = 4290\n",
       "\tmodel populations = [179, 694, 127], model weights = [0.2  0.64 0.16]<p>Finished iteration 3, eps = 1.63, time = 3.0s / 0.1m, ESS = [ 44. 779. 135.], numSims = 6041\n",
       "\tmodel populations = [57, 803, 140], model weights = [0.07 0.87 0.06]"
      ],
      "text/plain": [
       "<IPython.core.display.HTML object>"
      ]
     },
     "metadata": {},
     "output_type": "display_data"
    },
    {
     "name": "stdout",
     "output_type": "stream",
     "text": [
      "Final population dists <= 1.63, ESS = [ 44. 779. 135.]\n",
      "\tmodel populations = [57, 803, 140], model weights = [0.07 0.87 0.06]\n",
      "Wall time: 11.1 s\n"
     ]
    },
    {
     "data": {
      "application/javascript": [
       "\n",
       "            setTimeout(function() {\n",
       "                var nbb_cell_id = 6;\n",
       "                var nbb_unformatted_code = \"model_proba_abc = pd.DataFrame(\\n    {\\\"model_data\\\": [], \\\"model_fit\\\": [], \\\"ss\\\": [], \\\"model_probability_ABC\\\": []}\\n)\\n\\n# model_data = \\\"lognormal\\\"\\nfor model_data in models_data:\\n    sevs = claim_data[model_data]\\n    for ss in sample_sizes:\\n        uData = sevs[:ss]\\n        %time fit = abcre.smc(numItersData, popSizeModels, uData, models, **smcArgs)\\n        for k in range(len(models)):\\n            weights = fit.weights[fit.models == k]\\n            res_mp = pd.DataFrame(\\n                {\\n                    \\\"model_data\\\": pd.Series(model_data),\\n                    \\\"model_fit\\\": pd.Series([models_fitted[k]]),\\n                    \\\"ss\\\": np.array([ss]),\\n                    \\\"model_probability_ABC\\\": pd.Series(\\n                        np.sum(fit.weights[fit.models == k])\\n                    ),\\n                }\\n            )\\n            model_proba_abc = pd.concat([model_proba_abc, res_mp])\\n            model_proba_abc\";\n",
       "                var nbb_formatted_code = \"model_proba_abc = pd.DataFrame(\\n    {\\\"model_data\\\": [], \\\"model_fit\\\": [], \\\"ss\\\": [], \\\"model_probability_ABC\\\": []}\\n)\\n\\n# model_data = \\\"lognormal\\\"\\nfor model_data in models_data:\\n    sevs = claim_data[model_data]\\n    for ss in sample_sizes:\\n        uData = sevs[:ss]\\n        %time fit = abcre.smc(numItersData, popSizeModels, uData, models, **smcArgs)\\n        for k in range(len(models)):\\n            weights = fit.weights[fit.models == k]\\n            res_mp = pd.DataFrame(\\n                {\\n                    \\\"model_data\\\": pd.Series(model_data),\\n                    \\\"model_fit\\\": pd.Series([models_fitted[k]]),\\n                    \\\"ss\\\": np.array([ss]),\\n                    \\\"model_probability_ABC\\\": pd.Series(\\n                        np.sum(fit.weights[fit.models == k])\\n                    ),\\n                }\\n            )\\n            model_proba_abc = pd.concat([model_proba_abc, res_mp])\\n            model_proba_abc\";\n",
       "                var nbb_cells = Jupyter.notebook.get_cells();\n",
       "                for (var i = 0; i < nbb_cells.length; ++i) {\n",
       "                    if (nbb_cells[i].input_prompt_number == nbb_cell_id) {\n",
       "                        if (nbb_cells[i].get_text() == nbb_unformatted_code) {\n",
       "                             nbb_cells[i].set_text(nbb_formatted_code);\n",
       "                        }\n",
       "                        break;\n",
       "                    }\n",
       "                }\n",
       "            }, 500);\n",
       "            "
      ],
      "text/plain": [
       "<IPython.core.display.Javascript object>"
      ]
     },
     "metadata": {},
     "output_type": "display_data"
    }
   ],
   "source": [
    "model_proba_abc = pd.DataFrame(\n",
    "    {\"model_data\": [], \"model_fit\": [], \"ss\": [], \"model_probability_ABC\": []}\n",
    ")\n",
    "\n",
    "# model_data = \"lognormal\"\n",
    "for model_data in models_data:\n",
    "    sevs = claim_data[model_data]\n",
    "    for ss in sample_sizes:\n",
    "        uData = sevs[:ss]\n",
    "        %time fit = abcre.smc(numItersData, popSizeModels, uData, models, **smcArgs)\n",
    "        for k in range(len(models)):\n",
    "            weights = fit.weights[fit.models == k]\n",
    "            res_mp = pd.DataFrame(\n",
    "                {\n",
    "                    \"model_data\": pd.Series(model_data),\n",
    "                    \"model_fit\": pd.Series([models_fitted[k]]),\n",
    "                    \"ss\": np.array([ss]),\n",
    "                    \"model_probability_ABC\": pd.Series(\n",
    "                        np.sum(fit.weights[fit.models == k])\n",
    "                    ),\n",
    "                }\n",
    "            )\n",
    "            model_proba_abc = pd.concat([model_proba_abc, res_mp])\n",
    "            model_proba_abc\n"
   ]
  },
  {
   "cell_type": "markdown",
   "metadata": {},
   "source": [
    "## SMC model probabilities"
   ]
  },
  {
   "cell_type": "code",
   "execution_count": 7,
   "metadata": {},
   "outputs": [
    {
     "name": "stdout",
     "output_type": "stream",
     "text": [
      "Fitting a gamma model to 25 data points generated from a lognormal model\n"
     ]
    },
    {
     "name": "stderr",
     "output_type": "stream",
     "text": [
      "Sample initial stage: ...\n",
      "Stage:   0 Beta: 0.010 Steps:  25 Acce: 1.000\n",
      "Stage:   1 Beta: 0.049 Steps:  25 Acce: 0.496\n",
      "Stage:   2 Beta: 0.129 Steps:   6 Acce: 0.406\n",
      "Stage:   3 Beta: 0.285 Steps:   8 Acce: 0.298\n",
      "Stage:   4 Beta: 0.818 Steps:  12 Acce: 0.288\n",
      "Stage:   5 Beta: 1.000 Steps:  13 Acce: 0.353\n"
     ]
    },
    {
     "name": "stdout",
     "output_type": "stream",
     "text": [
      "Wall time: 34.7 s\n",
      "Fitting a gamma model to 50 data points generated from a lognormal model\n"
     ]
    },
    {
     "name": "stderr",
     "output_type": "stream",
     "text": [
      "Sample initial stage: ...\n",
      "Stage:   0 Beta: 0.005 Steps:  25 Acce: 1.000\n",
      "Stage:   1 Beta: 0.025 Steps:  25 Acce: 0.497\n",
      "Stage:   2 Beta: 0.068 Steps:   6 Acce: 0.421\n",
      "Stage:   3 Beta: 0.158 Steps:   8 Acce: 0.302\n",
      "Stage:   4 Beta: 0.437 Steps:  12 Acce: 0.291\n",
      "Stage:   5 Beta: 1.000 Steps:  13 Acce: 0.328\n"
     ]
    },
    {
     "name": "stdout",
     "output_type": "stream",
     "text": [
      "Wall time: 33.7 s\n",
      "Fitting a gamma model to 75 data points generated from a lognormal model\n"
     ]
    },
    {
     "name": "stderr",
     "output_type": "stream",
     "text": [
      "Sample initial stage: ...\n",
      "Stage:   0 Beta: 0.003 Steps:  25 Acce: 1.000\n",
      "Stage:   1 Beta: 0.016 Steps:  25 Acce: 0.500\n",
      "Stage:   2 Beta: 0.043 Steps:   6 Acce: 0.403\n",
      "Stage:   3 Beta: 0.098 Steps:   8 Acce: 0.320\n",
      "Stage:   4 Beta: 0.283 Steps:  11 Acce: 0.314\n",
      "Stage:   5 Beta: 0.934 Steps:  12 Acce: 0.325\n",
      "Stage:   6 Beta: 1.000 Steps:  11 Acce: 0.333\n"
     ]
    },
    {
     "name": "stdout",
     "output_type": "stream",
     "text": [
      "Wall time: 37.5 s\n",
      "Fitting a gamma model to 100 data points generated from a lognormal model\n"
     ]
    },
    {
     "name": "stderr",
     "output_type": "stream",
     "text": [
      "Sample initial stage: ...\n",
      "Stage:   0 Beta: 0.002 Steps:  25 Acce: 1.000\n",
      "Stage:   1 Beta: 0.012 Steps:  25 Acce: 0.500\n",
      "Stage:   2 Beta: 0.032 Steps:   6 Acce: 0.424\n",
      "Stage:   3 Beta: 0.071 Steps:   8 Acce: 0.311\n",
      "Stage:   4 Beta: 0.206 Steps:  12 Acce: 0.302\n",
      "Stage:   5 Beta: 0.676 Steps:  12 Acce: 0.338\n",
      "Stage:   6 Beta: 1.000 Steps:  11 Acce: 0.322\n"
     ]
    },
    {
     "name": "stdout",
     "output_type": "stream",
     "text": [
      "Wall time: 38.9 s\n",
      "Fitting a gamma model to 150 data points generated from a lognormal model\n"
     ]
    },
    {
     "name": "stderr",
     "output_type": "stream",
     "text": [
      "Sample initial stage: ...\n",
      "Stage:   0 Beta: 0.002 Steps:  25 Acce: 1.000\n",
      "Stage:   1 Beta: 0.008 Steps:  25 Acce: 0.498\n",
      "Stage:   2 Beta: 0.022 Steps:   6 Acce: 0.425\n",
      "Stage:   3 Beta: 0.051 Steps:   8 Acce: 0.290\n",
      "Stage:   4 Beta: 0.160 Steps:  13 Acce: 0.310\n",
      "Stage:   5 Beta: 0.505 Steps:  12 Acce: 0.317\n",
      "Stage:   6 Beta: 1.000 Steps:  12 Acce: 0.280\n"
     ]
    },
    {
     "name": "stdout",
     "output_type": "stream",
     "text": [
      "Wall time: 41.8 s\n",
      "Fitting a gamma model to 200 data points generated from a lognormal model\n"
     ]
    },
    {
     "name": "stderr",
     "output_type": "stream",
     "text": [
      "Sample initial stage: ...\n",
      "Stage:   0 Beta: 0.001 Steps:  25 Acce: 1.000\n",
      "Stage:   1 Beta: 0.006 Steps:  25 Acce: 0.500\n",
      "Stage:   2 Beta: 0.015 Steps:   6 Acce: 0.387\n",
      "Stage:   3 Beta: 0.033 Steps:   9 Acce: 0.314\n",
      "Stage:   4 Beta: 0.096 Steps:  12 Acce: 0.320\n",
      "Stage:   5 Beta: 0.300 Steps:  11 Acce: 0.332\n",
      "Stage:   6 Beta: 0.961 Steps:  11 Acce: 0.322\n",
      "Stage:   7 Beta: 1.000 Steps:  11 Acce: 0.269\n"
     ]
    },
    {
     "name": "stdout",
     "output_type": "stream",
     "text": [
      "Wall time: 47.2 s\n",
      "Fitting a lognormal model to 25 data points generated from a lognormal model\n"
     ]
    },
    {
     "name": "stderr",
     "output_type": "stream",
     "text": [
      "Sample initial stage: ...\n",
      "Stage:   0 Beta: 0.006 Steps:  25 Acce: 1.000\n",
      "Stage:   1 Beta: 0.041 Steps:  25 Acce: 0.482\n",
      "Stage:   2 Beta: 0.121 Steps:   7 Acce: 0.401\n",
      "Stage:   3 Beta: 0.271 Steps:   8 Acce: 0.329\n",
      "Stage:   4 Beta: 0.717 Steps:  11 Acce: 0.371\n",
      "Stage:   5 Beta: 1.000 Steps:   9 Acce: 0.345\n"
     ]
    },
    {
     "name": "stdout",
     "output_type": "stream",
     "text": [
      "Wall time: 27.6 s\n",
      "Fitting a lognormal model to 50 data points generated from a lognormal model\n"
     ]
    },
    {
     "name": "stderr",
     "output_type": "stream",
     "text": [
      "Sample initial stage: ...\n",
      "Stage:   0 Beta: 0.003 Steps:  25 Acce: 1.000\n",
      "Stage:   1 Beta: 0.021 Steps:  25 Acce: 0.482\n",
      "Stage:   2 Beta: 0.060 Steps:   6 Acce: 0.381\n",
      "Stage:   3 Beta: 0.130 Steps:   9 Acce: 0.333\n",
      "Stage:   4 Beta: 0.327 Steps:  11 Acce: 0.361\n",
      "Stage:   5 Beta: 1.000 Steps:  10 Acce: 0.360\n"
     ]
    },
    {
     "name": "stdout",
     "output_type": "stream",
     "text": [
      "Wall time: 27.9 s\n",
      "Fitting a lognormal model to 75 data points generated from a lognormal model\n"
     ]
    },
    {
     "name": "stderr",
     "output_type": "stream",
     "text": [
      "Sample initial stage: ...\n",
      "Stage:   0 Beta: 0.002 Steps:  25 Acce: 1.000\n",
      "Stage:   1 Beta: 0.014 Steps:  25 Acce: 0.483\n",
      "Stage:   2 Beta: 0.038 Steps:   6 Acce: 0.363\n",
      "Stage:   3 Beta: 0.085 Steps:  10 Acce: 0.329\n",
      "Stage:   4 Beta: 0.221 Steps:  11 Acce: 0.331\n",
      "Stage:   5 Beta: 0.621 Steps:  11 Acce: 0.383\n",
      "Stage:   6 Beta: 1.000 Steps:   9 Acce: 0.343\n"
     ]
    },
    {
     "name": "stdout",
     "output_type": "stream",
     "text": [
      "Wall time: 34.4 s\n",
      "Fitting a lognormal model to 100 data points generated from a lognormal model\n"
     ]
    },
    {
     "name": "stderr",
     "output_type": "stream",
     "text": [
      "Sample initial stage: ...\n",
      "Stage:   0 Beta: 0.002 Steps:  25 Acce: 1.000\n",
      "Stage:   1 Beta: 0.011 Steps:  25 Acce: 0.474\n",
      "Stage:   2 Beta: 0.029 Steps:   7 Acce: 0.396\n",
      "Stage:   3 Beta: 0.061 Steps:   9 Acce: 0.311\n",
      "Stage:   4 Beta: 0.160 Steps:  12 Acce: 0.341\n",
      "Stage:   5 Beta: 0.466 Steps:  11 Acce: 0.370\n",
      "Stage:   6 Beta: 1.000 Steps:   9 Acce: 0.332\n",
      "Sample initial stage: ...\n"
     ]
    },
    {
     "name": "stdout",
     "output_type": "stream",
     "text": [
      "Wall time: 35.2 s\n",
      "Fitting a lognormal model to 150 data points generated from a lognormal model\n"
     ]
    },
    {
     "name": "stderr",
     "output_type": "stream",
     "text": [
      "Stage:   0 Beta: 0.001 Steps:  25 Acce: 1.000\n",
      "Stage:   1 Beta: 0.007 Steps:  25 Acce: 0.484\n",
      "Stage:   2 Beta: 0.019 Steps:   6 Acce: 0.378\n",
      "Stage:   3 Beta: 0.042 Steps:   9 Acce: 0.334\n",
      "Stage:   4 Beta: 0.105 Steps:  11 Acce: 0.368\n",
      "Stage:   5 Beta: 0.327 Steps:  10 Acce: 0.347\n",
      "Stage:   6 Beta: 1.000 Steps:  10 Acce: 0.337\n"
     ]
    },
    {
     "name": "stdout",
     "output_type": "stream",
     "text": [
      "Wall time: 32.9 s\n",
      "Fitting a lognormal model to 200 data points generated from a lognormal model\n"
     ]
    },
    {
     "name": "stderr",
     "output_type": "stream",
     "text": [
      "Sample initial stage: ...\n",
      "Stage:   0 Beta: 0.001 Steps:  25 Acce: 1.000\n",
      "Stage:   1 Beta: 0.005 Steps:  25 Acce: 0.484\n",
      "Stage:   2 Beta: 0.014 Steps:   6 Acce: 0.379\n",
      "Stage:   3 Beta: 0.031 Steps:   9 Acce: 0.314\n",
      "Stage:   4 Beta: 0.088 Steps:  12 Acce: 0.371\n",
      "Stage:   5 Beta: 0.249 Steps:   9 Acce: 0.378\n",
      "Stage:   6 Beta: 0.820 Steps:   9 Acce: 0.341\n",
      "Stage:   7 Beta: 1.000 Steps:  11 Acce: 0.307\n"
     ]
    },
    {
     "name": "stdout",
     "output_type": "stream",
     "text": [
      "Wall time: 37.3 s\n",
      "Fitting a weibull model to 25 data points generated from a lognormal model\n"
     ]
    },
    {
     "name": "stderr",
     "output_type": "stream",
     "text": [
      "Sample initial stage: ...\n",
      "Stage:   0 Beta: 0.012 Steps:  25 Acce: 1.000\n",
      "Stage:   1 Beta: 0.048 Steps:  25 Acce: 0.491\n",
      "Stage:   2 Beta: 0.109 Steps:   6 Acce: 0.386\n",
      "Stage:   3 Beta: 0.241 Steps:   9 Acce: 0.320\n",
      "Stage:   4 Beta: 0.698 Steps:  11 Acce: 0.315\n",
      "Stage:   5 Beta: 1.000 Steps:  12 Acce: 0.364\n"
     ]
    },
    {
     "name": "stdout",
     "output_type": "stream",
     "text": [
      "Wall time: 30 s\n",
      "Fitting a weibull model to 50 data points generated from a lognormal model\n"
     ]
    },
    {
     "name": "stderr",
     "output_type": "stream",
     "text": [
      "Sample initial stage: ...\n",
      "Stage:   0 Beta: 0.006 Steps:  25 Acce: 1.000\n",
      "Stage:   1 Beta: 0.025 Steps:  25 Acce: 0.505\n",
      "Stage:   2 Beta: 0.057 Steps:   6 Acce: 0.388\n",
      "Stage:   3 Beta: 0.116 Steps:   9 Acce: 0.297\n",
      "Stage:   4 Beta: 0.322 Steps:  13 Acce: 0.298\n",
      "Stage:   5 Beta: 1.000 Steps:  13 Acce: 0.383\n"
     ]
    },
    {
     "name": "stdout",
     "output_type": "stream",
     "text": [
      "Wall time: 30.4 s\n",
      "Fitting a weibull model to 75 data points generated from a lognormal model\n"
     ]
    },
    {
     "name": "stderr",
     "output_type": "stream",
     "text": [
      "Sample initial stage: ...\n",
      "Stage:   0 Beta: 0.004 Steps:  25 Acce: 1.000\n",
      "Stage:   1 Beta: 0.016 Steps:  25 Acce: 0.501\n",
      "Stage:   2 Beta: 0.037 Steps:   6 Acce: 0.383\n",
      "Stage:   3 Beta: 0.075 Steps:   9 Acce: 0.304\n",
      "Stage:   4 Beta: 0.212 Steps:  12 Acce: 0.291\n",
      "Stage:   5 Beta: 0.659 Steps:  13 Acce: 0.368\n",
      "Stage:   6 Beta: 1.000 Steps:  10 Acce: 0.330\n"
     ]
    },
    {
     "name": "stdout",
     "output_type": "stream",
     "text": [
      "Wall time: 35.1 s\n",
      "Fitting a weibull model to 100 data points generated from a lognormal model\n"
     ]
    },
    {
     "name": "stderr",
     "output_type": "stream",
     "text": [
      "Sample initial stage: ...\n",
      "Stage:   0 Beta: 0.003 Steps:  25 Acce: 1.000\n",
      "Stage:   1 Beta: 0.012 Steps:  25 Acce: 0.499\n",
      "Stage:   2 Beta: 0.027 Steps:   6 Acce: 0.392\n",
      "Stage:   3 Beta: 0.057 Steps:   9 Acce: 0.314\n",
      "Stage:   4 Beta: 0.173 Steps:  12 Acce: 0.300\n",
      "Stage:   5 Beta: 0.580 Steps:  12 Acce: 0.359\n",
      "Stage:   6 Beta: 1.000 Steps:  10 Acce: 0.337\n"
     ]
    },
    {
     "name": "stdout",
     "output_type": "stream",
     "text": [
      "Wall time: 36.3 s\n",
      "Fitting a weibull model to 150 data points generated from a lognormal model\n"
     ]
    },
    {
     "name": "stderr",
     "output_type": "stream",
     "text": [
      "Sample initial stage: ...\n",
      "Stage:   0 Beta: 0.002 Steps:  25 Acce: 1.000\n",
      "Stage:   1 Beta: 0.008 Steps:  25 Acce: 0.507\n",
      "Stage:   2 Beta: 0.019 Steps:   6 Acce: 0.395\n",
      "Stage:   3 Beta: 0.040 Steps:   9 Acce: 0.315\n",
      "Stage:   4 Beta: 0.120 Steps:  12 Acce: 0.284\n",
      "Stage:   5 Beta: 0.392 Steps:  13 Acce: 0.361\n",
      "Stage:   6 Beta: 1.000 Steps:  10 Acce: 0.338\n"
     ]
    },
    {
     "name": "stdout",
     "output_type": "stream",
     "text": [
      "Wall time: 36.1 s\n",
      "Fitting a weibull model to 200 data points generated from a lognormal model\n"
     ]
    },
    {
     "name": "stderr",
     "output_type": "stream",
     "text": [
      "Sample initial stage: ...\n",
      "Stage:   0 Beta: 0.001 Steps:  25 Acce: 1.000\n",
      "Stage:   1 Beta: 0.006 Steps:  25 Acce: 0.503\n",
      "Stage:   2 Beta: 0.014 Steps:   6 Acce: 0.390\n",
      "Stage:   3 Beta: 0.028 Steps:   9 Acce: 0.293\n",
      "Stage:   4 Beta: 0.083 Steps:  13 Acce: 0.316\n",
      "Stage:   5 Beta: 0.255 Steps:  12 Acce: 0.371\n",
      "Stage:   6 Beta: 0.827 Steps:   9 Acce: 0.322\n",
      "Stage:   7 Beta: 1.000 Steps:  11 Acce: 0.295\n"
     ]
    },
    {
     "name": "stdout",
     "output_type": "stream",
     "text": [
      "Wall time: 41 s\n"
     ]
    },
    {
     "data": {
      "application/javascript": [
       "\n",
       "            setTimeout(function() {\n",
       "                var nbb_cell_id = 7;\n",
       "                var nbb_unformatted_code = \"Bayesian_Summary = pd.DataFrame(\\n    {\\n        \\\"model_data\\\": [],\\n        \\\"model_fit\\\": [],\\n        \\\"ss\\\": [],\\n        \\\"param_1\\\": [],\\n        \\\"param_2\\\": [],\\n        \\\"marginal_log_likelihood\\\": [],\\n    }\\n)\\n\\nfor model_data in models_data:\\n    sevs = claim_data[model_data]\\n    for model_fitted in models_fitted:\\n\\n        for ss in sample_sizes:\\n            uData = sevs[:ss]\\n            print(\\n                f\\\"Fitting a {model_fitted} model to {len(uData)} data points generated from a {model_data} model\\\"\\n            )\\n\\n            if model_fitted == \\\"gamma\\\":\\n                with pm.Model() as model_sev:\\n                    r = pm.Uniform(\\\"param_1\\\", lower=0, upper=5)\\n                    m = pm.Uniform(\\\"param_2\\\", lower=0, upper=100)\\n                    U = pm.Gamma(\\\"U\\\", alpha=r, beta=1 / m, observed=uData)\\n                    %time trace = pm.sample_smc(popSize, random_seed=1)\\n\\n            elif model_fitted == \\\"lognormal\\\":\\n                with pm.Model() as model_sev:\\n                    \\u03bc = pm.Uniform(\\\"param_1\\\", lower=-20, upper=20)\\n                    \\u03c3 = pm.Uniform(\\\"param_2\\\", lower=0, upper=5)\\n                    U = pm.Lognormal(\\\"U\\\", mu=\\u03bc, sigma=\\u03c3, observed=uData)\\n                    %time trace = pm.sample_smc(popSize, random_seed=1)\\n\\n            elif model_fitted == \\\"weibull\\\":\\n                with pm.Model() as model_sev:\\n                    k = pm.Uniform(\\\"param_1\\\", lower=1e-1, upper=5)\\n                    \\u03b4 = pm.Uniform(\\\"param_2\\\", lower=0, upper=100)\\n                    U = pm.Weibull(\\\"U\\\", alpha=k, beta=\\u03b4, observed=uData)\\n                    %time trace = pm.sample_smc(popSize, random_seed=1)\\n\\n            # pm.plot_posterior(trace)\\n\\n            ll = model_sev.marginal_log_likelihood\\n\\n            res = pd.DataFrame(\\n                {\\n                    \\\"model_data\\\": [model_data],\\n                    \\\"model_fit\\\": [model_fitted],\\n                    \\\"ss\\\": [ss],\\n                    \\\"param_1\\\": [trace[\\\"param_1\\\"].mean()],\\n                    \\\"param_2\\\": [trace[\\\"param_2\\\"].mean()],\\n                    \\\"marginal_log_likelihood\\\": [ll],\\n                }\\n            )\\n            Bayesian_Summary = pd.concat([Bayesian_Summary, res])\";\n",
       "                var nbb_formatted_code = \"Bayesian_Summary = pd.DataFrame(\\n    {\\n        \\\"model_data\\\": [],\\n        \\\"model_fit\\\": [],\\n        \\\"ss\\\": [],\\n        \\\"param_1\\\": [],\\n        \\\"param_2\\\": [],\\n        \\\"marginal_log_likelihood\\\": [],\\n    }\\n)\\n\\nfor model_data in models_data:\\n    sevs = claim_data[model_data]\\n    for model_fitted in models_fitted:\\n\\n        for ss in sample_sizes:\\n            uData = sevs[:ss]\\n            print(\\n                f\\\"Fitting a {model_fitted} model to {len(uData)} data points generated from a {model_data} model\\\"\\n            )\\n\\n            if model_fitted == \\\"gamma\\\":\\n                with pm.Model() as model_sev:\\n                    r = pm.Uniform(\\\"param_1\\\", lower=0, upper=5)\\n                    m = pm.Uniform(\\\"param_2\\\", lower=0, upper=100)\\n                    U = pm.Gamma(\\\"U\\\", alpha=r, beta=1 / m, observed=uData)\\n                    %time trace = pm.sample_smc(popSize, random_seed=1)\\n\\n            elif model_fitted == \\\"lognormal\\\":\\n                with pm.Model() as model_sev:\\n                    \\u03bc = pm.Uniform(\\\"param_1\\\", lower=-20, upper=20)\\n                    \\u03c3 = pm.Uniform(\\\"param_2\\\", lower=0, upper=5)\\n                    U = pm.Lognormal(\\\"U\\\", mu=\\u03bc, sigma=\\u03c3, observed=uData)\\n                    %time trace = pm.sample_smc(popSize, random_seed=1)\\n\\n            elif model_fitted == \\\"weibull\\\":\\n                with pm.Model() as model_sev:\\n                    k = pm.Uniform(\\\"param_1\\\", lower=1e-1, upper=5)\\n                    \\u03b4 = pm.Uniform(\\\"param_2\\\", lower=0, upper=100)\\n                    U = pm.Weibull(\\\"U\\\", alpha=k, beta=\\u03b4, observed=uData)\\n                    %time trace = pm.sample_smc(popSize, random_seed=1)\\n\\n            # pm.plot_posterior(trace)\\n\\n            ll = model_sev.marginal_log_likelihood\\n\\n            res = pd.DataFrame(\\n                {\\n                    \\\"model_data\\\": [model_data],\\n                    \\\"model_fit\\\": [model_fitted],\\n                    \\\"ss\\\": [ss],\\n                    \\\"param_1\\\": [trace[\\\"param_1\\\"].mean()],\\n                    \\\"param_2\\\": [trace[\\\"param_2\\\"].mean()],\\n                    \\\"marginal_log_likelihood\\\": [ll],\\n                }\\n            )\\n            Bayesian_Summary = pd.concat([Bayesian_Summary, res])\";\n",
       "                var nbb_cells = Jupyter.notebook.get_cells();\n",
       "                for (var i = 0; i < nbb_cells.length; ++i) {\n",
       "                    if (nbb_cells[i].input_prompt_number == nbb_cell_id) {\n",
       "                        if (nbb_cells[i].get_text() == nbb_unformatted_code) {\n",
       "                             nbb_cells[i].set_text(nbb_formatted_code);\n",
       "                        }\n",
       "                        break;\n",
       "                    }\n",
       "                }\n",
       "            }, 500);\n",
       "            "
      ],
      "text/plain": [
       "<IPython.core.display.Javascript object>"
      ]
     },
     "metadata": {},
     "output_type": "display_data"
    }
   ],
   "source": [
    "Bayesian_Summary = pd.DataFrame(\n",
    "    {\n",
    "        \"model_data\": [],\n",
    "        \"model_fit\": [],\n",
    "        \"ss\": [],\n",
    "        \"param_1\": [],\n",
    "        \"param_2\": [],\n",
    "        \"marginal_log_likelihood\": [],\n",
    "    }\n",
    ")\n",
    "\n",
    "for model_data in models_data:\n",
    "    sevs = claim_data[model_data]\n",
    "    for model_fitted in models_fitted:\n",
    "\n",
    "        for ss in sample_sizes:\n",
    "            uData = sevs[:ss]\n",
    "            print(\n",
    "                f\"Fitting a {model_fitted} model to {len(uData)} data points generated from a {model_data} model\"\n",
    "            )\n",
    "\n",
    "            if model_fitted == \"gamma\":\n",
    "                with pm.Model() as model_sev:\n",
    "                    r = pm.Uniform(\"param_1\", lower=0, upper=5)\n",
    "                    m = pm.Uniform(\"param_2\", lower=0, upper=100)\n",
    "                    U = pm.Gamma(\"U\", alpha=r, beta=1 / m, observed=uData)\n",
    "                    %time trace = pm.sample_smc(popSize, random_seed=1)\n",
    "\n",
    "            elif model_fitted == \"lognormal\":\n",
    "                with pm.Model() as model_sev:\n",
    "                    μ = pm.Uniform(\"param_1\", lower=-20, upper=20)\n",
    "                    σ = pm.Uniform(\"param_2\", lower=0, upper=5)\n",
    "                    U = pm.Lognormal(\"U\", mu=μ, sigma=σ, observed=uData)\n",
    "                    %time trace = pm.sample_smc(popSize, random_seed=1)\n",
    "\n",
    "            elif model_fitted == \"weibull\":\n",
    "                with pm.Model() as model_sev:\n",
    "                    k = pm.Uniform(\"param_1\", lower=1e-1, upper=5)\n",
    "                    δ = pm.Uniform(\"param_2\", lower=0, upper=100)\n",
    "                    U = pm.Weibull(\"U\", alpha=k, beta=δ, observed=uData)\n",
    "                    %time trace = pm.sample_smc(popSize, random_seed=1)\n",
    "\n",
    "            # pm.plot_posterior(trace)\n",
    "\n",
    "            ll = model_sev.marginal_log_likelihood\n",
    "\n",
    "            res = pd.DataFrame(\n",
    "                {\n",
    "                    \"model_data\": [model_data],\n",
    "                    \"model_fit\": [model_fitted],\n",
    "                    \"ss\": [ss],\n",
    "                    \"param_1\": [trace[\"param_1\"].mean()],\n",
    "                    \"param_2\": [trace[\"param_2\"].mean()],\n",
    "                    \"marginal_log_likelihood\": [ll],\n",
    "                }\n",
    "            )\n",
    "            Bayesian_Summary = pd.concat([Bayesian_Summary, res])"
   ]
  },
  {
   "cell_type": "code",
   "execution_count": 8,
   "metadata": {},
   "outputs": [
    {
     "data": {
      "text/html": [
       "<div>\n",
       "<style scoped>\n",
       "    .dataframe tbody tr th:only-of-type {\n",
       "        vertical-align: middle;\n",
       "    }\n",
       "\n",
       "    .dataframe tbody tr th {\n",
       "        vertical-align: top;\n",
       "    }\n",
       "\n",
       "    .dataframe thead th {\n",
       "        text-align: right;\n",
       "    }\n",
       "</style>\n",
       "<table border=\"1\" class=\"dataframe\">\n",
       "  <thead>\n",
       "    <tr style=\"text-align: right;\">\n",
       "      <th></th>\n",
       "      <th>model_data</th>\n",
       "      <th>model_fit</th>\n",
       "      <th>ss</th>\n",
       "      <th>param_1</th>\n",
       "      <th>param_2</th>\n",
       "      <th>marginal_log_likelihood_x</th>\n",
       "      <th>marginal_log_likelihood_y</th>\n",
       "      <th>BF_x</th>\n",
       "      <th>BF_y</th>\n",
       "      <th>model_probability</th>\n",
       "    </tr>\n",
       "  </thead>\n",
       "  <tbody>\n",
       "    <tr>\n",
       "      <th>0</th>\n",
       "      <td>lognormal</td>\n",
       "      <td>gamma</td>\n",
       "      <td>25.0</td>\n",
       "      <td>1.477746</td>\n",
       "      <td>1.298752</td>\n",
       "      <td>-44.117143</td>\n",
       "      <td>-44.117143</td>\n",
       "      <td>1.000000</td>\n",
       "      <td>2.287336</td>\n",
       "      <td>0.437190</td>\n",
       "    </tr>\n",
       "    <tr>\n",
       "      <th>1</th>\n",
       "      <td>lognormal</td>\n",
       "      <td>gamma</td>\n",
       "      <td>50.0</td>\n",
       "      <td>1.253679</td>\n",
       "      <td>1.570124</td>\n",
       "      <td>-86.526719</td>\n",
       "      <td>-85.730619</td>\n",
       "      <td>0.451085</td>\n",
       "      <td>1.663973</td>\n",
       "      <td>0.271089</td>\n",
       "    </tr>\n",
       "    <tr>\n",
       "      <th>2</th>\n",
       "      <td>lognormal</td>\n",
       "      <td>gamma</td>\n",
       "      <td>75.0</td>\n",
       "      <td>1.324136</td>\n",
       "      <td>1.330436</td>\n",
       "      <td>-120.283342</td>\n",
       "      <td>-117.492313</td>\n",
       "      <td>0.061358</td>\n",
       "      <td>1.073740</td>\n",
       "      <td>0.057144</td>\n",
       "    </tr>\n",
       "    <tr>\n",
       "      <th>3</th>\n",
       "      <td>lognormal</td>\n",
       "      <td>gamma</td>\n",
       "      <td>100.0</td>\n",
       "      <td>1.407956</td>\n",
       "      <td>1.176880</td>\n",
       "      <td>-152.501590</td>\n",
       "      <td>-147.753857</td>\n",
       "      <td>0.008671</td>\n",
       "      <td>1.010003</td>\n",
       "      <td>0.008585</td>\n",
       "    </tr>\n",
       "    <tr>\n",
       "      <th>4</th>\n",
       "      <td>lognormal</td>\n",
       "      <td>gamma</td>\n",
       "      <td>150.0</td>\n",
       "      <td>1.348640</td>\n",
       "      <td>1.300512</td>\n",
       "      <td>-235.390588</td>\n",
       "      <td>-228.349934</td>\n",
       "      <td>0.000876</td>\n",
       "      <td>1.000943</td>\n",
       "      <td>0.000875</td>\n",
       "    </tr>\n",
       "    <tr>\n",
       "      <th>5</th>\n",
       "      <td>lognormal</td>\n",
       "      <td>gamma</td>\n",
       "      <td>200.0</td>\n",
       "      <td>1.381733</td>\n",
       "      <td>1.201641</td>\n",
       "      <td>-301.249859</td>\n",
       "      <td>-291.294539</td>\n",
       "      <td>0.000047</td>\n",
       "      <td>1.000049</td>\n",
       "      <td>0.000047</td>\n",
       "    </tr>\n",
       "    <tr>\n",
       "      <th>6</th>\n",
       "      <td>lognormal</td>\n",
       "      <td>lognormal</td>\n",
       "      <td>25.0</td>\n",
       "      <td>0.185802</td>\n",
       "      <td>1.014138</td>\n",
       "      <td>-45.062670</td>\n",
       "      <td>-44.117143</td>\n",
       "      <td>0.388475</td>\n",
       "      <td>2.287336</td>\n",
       "      <td>0.169837</td>\n",
       "    </tr>\n",
       "    <tr>\n",
       "      <th>7</th>\n",
       "      <td>lognormal</td>\n",
       "      <td>lognormal</td>\n",
       "      <td>50.0</td>\n",
       "      <td>0.157304</td>\n",
       "      <td>1.024865</td>\n",
       "      <td>-85.730619</td>\n",
       "      <td>-85.730619</td>\n",
       "      <td>1.000000</td>\n",
       "      <td>1.663973</td>\n",
       "      <td>0.600971</td>\n",
       "    </tr>\n",
       "    <tr>\n",
       "      <th>8</th>\n",
       "      <td>lognormal</td>\n",
       "      <td>lognormal</td>\n",
       "      <td>75.0</td>\n",
       "      <td>0.100519</td>\n",
       "      <td>0.955438</td>\n",
       "      <td>-117.492313</td>\n",
       "      <td>-117.492313</td>\n",
       "      <td>1.000000</td>\n",
       "      <td>1.073740</td>\n",
       "      <td>0.931324</td>\n",
       "    </tr>\n",
       "    <tr>\n",
       "      <th>9</th>\n",
       "      <td>lognormal</td>\n",
       "      <td>lognormal</td>\n",
       "      <td>100.0</td>\n",
       "      <td>0.083314</td>\n",
       "      <td>0.910056</td>\n",
       "      <td>-147.753857</td>\n",
       "      <td>-147.753857</td>\n",
       "      <td>1.000000</td>\n",
       "      <td>1.010003</td>\n",
       "      <td>0.990096</td>\n",
       "    </tr>\n",
       "    <tr>\n",
       "      <th>10</th>\n",
       "      <td>lognormal</td>\n",
       "      <td>lognormal</td>\n",
       "      <td>150.0</td>\n",
       "      <td>0.127654</td>\n",
       "      <td>0.931385</td>\n",
       "      <td>-228.349934</td>\n",
       "      <td>-228.349934</td>\n",
       "      <td>1.000000</td>\n",
       "      <td>1.000943</td>\n",
       "      <td>0.999058</td>\n",
       "    </tr>\n",
       "    <tr>\n",
       "      <th>11</th>\n",
       "      <td>lognormal</td>\n",
       "      <td>lognormal</td>\n",
       "      <td>200.0</td>\n",
       "      <td>0.089341</td>\n",
       "      <td>0.913907</td>\n",
       "      <td>-291.294539</td>\n",
       "      <td>-291.294539</td>\n",
       "      <td>1.000000</td>\n",
       "      <td>1.000049</td>\n",
       "      <td>0.999951</td>\n",
       "    </tr>\n",
       "    <tr>\n",
       "      <th>12</th>\n",
       "      <td>lognormal</td>\n",
       "      <td>weibull</td>\n",
       "      <td>25.0</td>\n",
       "      <td>1.301578</td>\n",
       "      <td>1.958486</td>\n",
       "      <td>-44.223771</td>\n",
       "      <td>-44.117143</td>\n",
       "      <td>0.898861</td>\n",
       "      <td>2.287336</td>\n",
       "      <td>0.392973</td>\n",
       "    </tr>\n",
       "    <tr>\n",
       "      <th>13</th>\n",
       "      <td>lognormal</td>\n",
       "      <td>weibull</td>\n",
       "      <td>50.0</td>\n",
       "      <td>1.112424</td>\n",
       "      <td>1.958922</td>\n",
       "      <td>-87.277607</td>\n",
       "      <td>-85.730619</td>\n",
       "      <td>0.212888</td>\n",
       "      <td>1.663973</td>\n",
       "      <td>0.127940</td>\n",
       "    </tr>\n",
       "    <tr>\n",
       "      <th>14</th>\n",
       "      <td>lognormal</td>\n",
       "      <td>weibull</td>\n",
       "      <td>75.0</td>\n",
       "      <td>1.119166</td>\n",
       "      <td>1.792750</td>\n",
       "      <td>-121.883803</td>\n",
       "      <td>-117.492313</td>\n",
       "      <td>0.012382</td>\n",
       "      <td>1.073740</td>\n",
       "      <td>0.011532</td>\n",
       "    </tr>\n",
       "    <tr>\n",
       "      <th>15</th>\n",
       "      <td>lognormal</td>\n",
       "      <td>weibull</td>\n",
       "      <td>100.0</td>\n",
       "      <td>1.154956</td>\n",
       "      <td>1.724288</td>\n",
       "      <td>-154.375310</td>\n",
       "      <td>-147.753857</td>\n",
       "      <td>0.001331</td>\n",
       "      <td>1.010003</td>\n",
       "      <td>0.001318</td>\n",
       "    </tr>\n",
       "    <tr>\n",
       "      <th>16</th>\n",
       "      <td>lognormal</td>\n",
       "      <td>weibull</td>\n",
       "      <td>150.0</td>\n",
       "      <td>1.129771</td>\n",
       "      <td>1.817969</td>\n",
       "      <td>-237.956044</td>\n",
       "      <td>-228.349934</td>\n",
       "      <td>0.000067</td>\n",
       "      <td>1.000943</td>\n",
       "      <td>0.000067</td>\n",
       "    </tr>\n",
       "    <tr>\n",
       "      <th>17</th>\n",
       "      <td>lognormal</td>\n",
       "      <td>weibull</td>\n",
       "      <td>200.0</td>\n",
       "      <td>1.137076</td>\n",
       "      <td>1.739829</td>\n",
       "      <td>-304.900750</td>\n",
       "      <td>-291.294539</td>\n",
       "      <td>0.000001</td>\n",
       "      <td>1.000049</td>\n",
       "      <td>0.000001</td>\n",
       "    </tr>\n",
       "  </tbody>\n",
       "</table>\n",
       "</div>"
      ],
      "text/plain": [
       "   model_data  model_fit     ss   param_1   param_2  \\\n",
       "0   lognormal      gamma   25.0  1.477746  1.298752   \n",
       "1   lognormal      gamma   50.0  1.253679  1.570124   \n",
       "2   lognormal      gamma   75.0  1.324136  1.330436   \n",
       "3   lognormal      gamma  100.0  1.407956  1.176880   \n",
       "4   lognormal      gamma  150.0  1.348640  1.300512   \n",
       "5   lognormal      gamma  200.0  1.381733  1.201641   \n",
       "6   lognormal  lognormal   25.0  0.185802  1.014138   \n",
       "7   lognormal  lognormal   50.0  0.157304  1.024865   \n",
       "8   lognormal  lognormal   75.0  0.100519  0.955438   \n",
       "9   lognormal  lognormal  100.0  0.083314  0.910056   \n",
       "10  lognormal  lognormal  150.0  0.127654  0.931385   \n",
       "11  lognormal  lognormal  200.0  0.089341  0.913907   \n",
       "12  lognormal    weibull   25.0  1.301578  1.958486   \n",
       "13  lognormal    weibull   50.0  1.112424  1.958922   \n",
       "14  lognormal    weibull   75.0  1.119166  1.792750   \n",
       "15  lognormal    weibull  100.0  1.154956  1.724288   \n",
       "16  lognormal    weibull  150.0  1.129771  1.817969   \n",
       "17  lognormal    weibull  200.0  1.137076  1.739829   \n",
       "\n",
       "    marginal_log_likelihood_x  marginal_log_likelihood_y      BF_x      BF_y  \\\n",
       "0                  -44.117143                 -44.117143  1.000000  2.287336   \n",
       "1                  -86.526719                 -85.730619  0.451085  1.663973   \n",
       "2                 -120.283342                -117.492313  0.061358  1.073740   \n",
       "3                 -152.501590                -147.753857  0.008671  1.010003   \n",
       "4                 -235.390588                -228.349934  0.000876  1.000943   \n",
       "5                 -301.249859                -291.294539  0.000047  1.000049   \n",
       "6                  -45.062670                 -44.117143  0.388475  2.287336   \n",
       "7                  -85.730619                 -85.730619  1.000000  1.663973   \n",
       "8                 -117.492313                -117.492313  1.000000  1.073740   \n",
       "9                 -147.753857                -147.753857  1.000000  1.010003   \n",
       "10                -228.349934                -228.349934  1.000000  1.000943   \n",
       "11                -291.294539                -291.294539  1.000000  1.000049   \n",
       "12                 -44.223771                 -44.117143  0.898861  2.287336   \n",
       "13                 -87.277607                 -85.730619  0.212888  1.663973   \n",
       "14                -121.883803                -117.492313  0.012382  1.073740   \n",
       "15                -154.375310                -147.753857  0.001331  1.010003   \n",
       "16                -237.956044                -228.349934  0.000067  1.000943   \n",
       "17                -304.900750                -291.294539  0.000001  1.000049   \n",
       "\n",
       "    model_probability  \n",
       "0            0.437190  \n",
       "1            0.271089  \n",
       "2            0.057144  \n",
       "3            0.008585  \n",
       "4            0.000875  \n",
       "5            0.000047  \n",
       "6            0.169837  \n",
       "7            0.600971  \n",
       "8            0.931324  \n",
       "9            0.990096  \n",
       "10           0.999058  \n",
       "11           0.999951  \n",
       "12           0.392973  \n",
       "13           0.127940  \n",
       "14           0.011532  \n",
       "15           0.001318  \n",
       "16           0.000067  \n",
       "17           0.000001  "
      ]
     },
     "execution_count": 8,
     "metadata": {},
     "output_type": "execute_result"
    },
    {
     "data": {
      "application/javascript": [
       "\n",
       "            setTimeout(function() {\n",
       "                var nbb_cell_id = 8;\n",
       "                var nbb_unformatted_code = \"max_marginal_log_likelihood = (\\n    Bayesian_Summary[[\\\"model_data\\\", \\\"ss\\\", \\\"marginal_log_likelihood\\\"]]\\n    .groupby([\\\"model_data\\\", \\\"ss\\\"])\\n    .max()\\n)\\nmax_marginal_log_likelihood.reset_index(level=[\\\"model_data\\\", \\\"ss\\\"], inplace=True)\\nmax_marginal_log_likelihood.rename(\\n    columns={\\\"marginal_log_likelihood\\\": \\\"max_marginal_log_likelihood\\\"}\\n)\\n\\nBayesian_Summary_1 = pd.merge(\\n    Bayesian_Summary, max_marginal_log_likelihood, how=\\\"left\\\", on=[\\\"model_data\\\", \\\"ss\\\"]\\n)\\nBayesian_Summary_1\\n\\nBayesian_Summary_1[\\\"BF\\\"] = np.exp(\\n    Bayesian_Summary_1.marginal_log_likelihood_x\\n    - Bayesian_Summary_1.marginal_log_likelihood_y\\n)\\n\\nBayesian_Summary_1\\nsum_BF = (\\n    Bayesian_Summary_1[[\\\"ss\\\", \\\"model_data\\\", \\\"BF\\\"]].groupby([\\\"ss\\\", \\\"model_data\\\"]).sum()\\n)\\nsum_BF.reset_index(level=[\\\"model_data\\\", \\\"ss\\\"], inplace=True)\\n\\nBayesian_Summary_2 = pd.merge(\\n    Bayesian_Summary_1, sum_BF, how=\\\"left\\\", on=[\\\"model_data\\\", \\\"ss\\\"]\\n)\\nBayesian_Summary_2\\nBayesian_Summary_2[\\\"model_probability\\\"] = (\\n    Bayesian_Summary_2.BF_x / Bayesian_Summary_2.BF_y\\n)\\nBayesian_Summary_2\";\n",
       "                var nbb_formatted_code = \"max_marginal_log_likelihood = (\\n    Bayesian_Summary[[\\\"model_data\\\", \\\"ss\\\", \\\"marginal_log_likelihood\\\"]]\\n    .groupby([\\\"model_data\\\", \\\"ss\\\"])\\n    .max()\\n)\\nmax_marginal_log_likelihood.reset_index(level=[\\\"model_data\\\", \\\"ss\\\"], inplace=True)\\nmax_marginal_log_likelihood.rename(\\n    columns={\\\"marginal_log_likelihood\\\": \\\"max_marginal_log_likelihood\\\"}\\n)\\n\\nBayesian_Summary_1 = pd.merge(\\n    Bayesian_Summary, max_marginal_log_likelihood, how=\\\"left\\\", on=[\\\"model_data\\\", \\\"ss\\\"]\\n)\\nBayesian_Summary_1\\n\\nBayesian_Summary_1[\\\"BF\\\"] = np.exp(\\n    Bayesian_Summary_1.marginal_log_likelihood_x\\n    - Bayesian_Summary_1.marginal_log_likelihood_y\\n)\\n\\nBayesian_Summary_1\\nsum_BF = (\\n    Bayesian_Summary_1[[\\\"ss\\\", \\\"model_data\\\", \\\"BF\\\"]].groupby([\\\"ss\\\", \\\"model_data\\\"]).sum()\\n)\\nsum_BF.reset_index(level=[\\\"model_data\\\", \\\"ss\\\"], inplace=True)\\n\\nBayesian_Summary_2 = pd.merge(\\n    Bayesian_Summary_1, sum_BF, how=\\\"left\\\", on=[\\\"model_data\\\", \\\"ss\\\"]\\n)\\nBayesian_Summary_2\\nBayesian_Summary_2[\\\"model_probability\\\"] = (\\n    Bayesian_Summary_2.BF_x / Bayesian_Summary_2.BF_y\\n)\\nBayesian_Summary_2\";\n",
       "                var nbb_cells = Jupyter.notebook.get_cells();\n",
       "                for (var i = 0; i < nbb_cells.length; ++i) {\n",
       "                    if (nbb_cells[i].input_prompt_number == nbb_cell_id) {\n",
       "                        if (nbb_cells[i].get_text() == nbb_unformatted_code) {\n",
       "                             nbb_cells[i].set_text(nbb_formatted_code);\n",
       "                        }\n",
       "                        break;\n",
       "                    }\n",
       "                }\n",
       "            }, 500);\n",
       "            "
      ],
      "text/plain": [
       "<IPython.core.display.Javascript object>"
      ]
     },
     "metadata": {},
     "output_type": "display_data"
    }
   ],
   "source": [
    "max_marginal_log_likelihood = (\n",
    "    Bayesian_Summary[[\"model_data\", \"ss\", \"marginal_log_likelihood\"]]\n",
    "    .groupby([\"model_data\", \"ss\"])\n",
    "    .max()\n",
    ")\n",
    "max_marginal_log_likelihood.reset_index(level=[\"model_data\", \"ss\"], inplace=True)\n",
    "max_marginal_log_likelihood.rename(\n",
    "    columns={\"marginal_log_likelihood\": \"max_marginal_log_likelihood\"}\n",
    ")\n",
    "\n",
    "Bayesian_Summary_1 = pd.merge(\n",
    "    Bayesian_Summary, max_marginal_log_likelihood, how=\"left\", on=[\"model_data\", \"ss\"]\n",
    ")\n",
    "Bayesian_Summary_1\n",
    "\n",
    "Bayesian_Summary_1[\"BF\"] = np.exp(\n",
    "    Bayesian_Summary_1.marginal_log_likelihood_x\n",
    "    - Bayesian_Summary_1.marginal_log_likelihood_y\n",
    ")\n",
    "\n",
    "Bayesian_Summary_1\n",
    "sum_BF = (\n",
    "    Bayesian_Summary_1[[\"ss\", \"model_data\", \"BF\"]].groupby([\"ss\", \"model_data\"]).sum()\n",
    ")\n",
    "sum_BF.reset_index(level=[\"model_data\", \"ss\"], inplace=True)\n",
    "\n",
    "Bayesian_Summary_2 = pd.merge(\n",
    "    Bayesian_Summary_1, sum_BF, how=\"left\", on=[\"model_data\", \"ss\"]\n",
    ")\n",
    "Bayesian_Summary_2\n",
    "Bayesian_Summary_2[\"model_probability\"] = (\n",
    "    Bayesian_Summary_2.BF_x / Bayesian_Summary_2.BF_y\n",
    ")\n",
    "Bayesian_Summary_2"
   ]
  },
  {
   "cell_type": "code",
   "execution_count": 9,
   "metadata": {},
   "outputs": [
    {
     "data": {
      "text/html": [
       "<div>\n",
       "<style scoped>\n",
       "    .dataframe tbody tr th:only-of-type {\n",
       "        vertical-align: middle;\n",
       "    }\n",
       "\n",
       "    .dataframe tbody tr th {\n",
       "        vertical-align: top;\n",
       "    }\n",
       "\n",
       "    .dataframe thead th {\n",
       "        text-align: right;\n",
       "    }\n",
       "</style>\n",
       "<table border=\"1\" class=\"dataframe\">\n",
       "  <thead>\n",
       "    <tr style=\"text-align: right;\">\n",
       "      <th></th>\n",
       "      <th>model_data</th>\n",
       "      <th>model_fit</th>\n",
       "      <th>ss</th>\n",
       "      <th>model_probability</th>\n",
       "      <th>model_probability_ABC</th>\n",
       "    </tr>\n",
       "  </thead>\n",
       "  <tbody>\n",
       "    <tr>\n",
       "      <th>0</th>\n",
       "      <td>lognormal</td>\n",
       "      <td>gamma</td>\n",
       "      <td>25.0</td>\n",
       "      <td>0.44</td>\n",
       "      <td>0.10</td>\n",
       "    </tr>\n",
       "    <tr>\n",
       "      <th>1</th>\n",
       "      <td>lognormal</td>\n",
       "      <td>gamma</td>\n",
       "      <td>50.0</td>\n",
       "      <td>0.27</td>\n",
       "      <td>0.08</td>\n",
       "    </tr>\n",
       "    <tr>\n",
       "      <th>2</th>\n",
       "      <td>lognormal</td>\n",
       "      <td>gamma</td>\n",
       "      <td>75.0</td>\n",
       "      <td>0.06</td>\n",
       "      <td>0.10</td>\n",
       "    </tr>\n",
       "    <tr>\n",
       "      <th>3</th>\n",
       "      <td>lognormal</td>\n",
       "      <td>gamma</td>\n",
       "      <td>100.0</td>\n",
       "      <td>0.01</td>\n",
       "      <td>0.09</td>\n",
       "    </tr>\n",
       "    <tr>\n",
       "      <th>4</th>\n",
       "      <td>lognormal</td>\n",
       "      <td>gamma</td>\n",
       "      <td>150.0</td>\n",
       "      <td>0.00</td>\n",
       "      <td>0.07</td>\n",
       "    </tr>\n",
       "    <tr>\n",
       "      <th>5</th>\n",
       "      <td>lognormal</td>\n",
       "      <td>gamma</td>\n",
       "      <td>200.0</td>\n",
       "      <td>0.00</td>\n",
       "      <td>0.07</td>\n",
       "    </tr>\n",
       "    <tr>\n",
       "      <th>6</th>\n",
       "      <td>lognormal</td>\n",
       "      <td>lognormal</td>\n",
       "      <td>25.0</td>\n",
       "      <td>0.17</td>\n",
       "      <td>0.83</td>\n",
       "    </tr>\n",
       "    <tr>\n",
       "      <th>7</th>\n",
       "      <td>lognormal</td>\n",
       "      <td>lognormal</td>\n",
       "      <td>50.0</td>\n",
       "      <td>0.60</td>\n",
       "      <td>0.83</td>\n",
       "    </tr>\n",
       "    <tr>\n",
       "      <th>8</th>\n",
       "      <td>lognormal</td>\n",
       "      <td>lognormal</td>\n",
       "      <td>75.0</td>\n",
       "      <td>0.93</td>\n",
       "      <td>0.82</td>\n",
       "    </tr>\n",
       "    <tr>\n",
       "      <th>9</th>\n",
       "      <td>lognormal</td>\n",
       "      <td>lognormal</td>\n",
       "      <td>100.0</td>\n",
       "      <td>0.99</td>\n",
       "      <td>0.84</td>\n",
       "    </tr>\n",
       "    <tr>\n",
       "      <th>10</th>\n",
       "      <td>lognormal</td>\n",
       "      <td>lognormal</td>\n",
       "      <td>150.0</td>\n",
       "      <td>1.00</td>\n",
       "      <td>0.85</td>\n",
       "    </tr>\n",
       "    <tr>\n",
       "      <th>11</th>\n",
       "      <td>lognormal</td>\n",
       "      <td>lognormal</td>\n",
       "      <td>200.0</td>\n",
       "      <td>1.00</td>\n",
       "      <td>0.87</td>\n",
       "    </tr>\n",
       "    <tr>\n",
       "      <th>12</th>\n",
       "      <td>lognormal</td>\n",
       "      <td>weibull</td>\n",
       "      <td>25.0</td>\n",
       "      <td>0.39</td>\n",
       "      <td>0.07</td>\n",
       "    </tr>\n",
       "    <tr>\n",
       "      <th>13</th>\n",
       "      <td>lognormal</td>\n",
       "      <td>weibull</td>\n",
       "      <td>50.0</td>\n",
       "      <td>0.13</td>\n",
       "      <td>0.09</td>\n",
       "    </tr>\n",
       "    <tr>\n",
       "      <th>14</th>\n",
       "      <td>lognormal</td>\n",
       "      <td>weibull</td>\n",
       "      <td>75.0</td>\n",
       "      <td>0.01</td>\n",
       "      <td>0.08</td>\n",
       "    </tr>\n",
       "    <tr>\n",
       "      <th>15</th>\n",
       "      <td>lognormal</td>\n",
       "      <td>weibull</td>\n",
       "      <td>100.0</td>\n",
       "      <td>0.00</td>\n",
       "      <td>0.07</td>\n",
       "    </tr>\n",
       "    <tr>\n",
       "      <th>16</th>\n",
       "      <td>lognormal</td>\n",
       "      <td>weibull</td>\n",
       "      <td>150.0</td>\n",
       "      <td>0.00</td>\n",
       "      <td>0.08</td>\n",
       "    </tr>\n",
       "    <tr>\n",
       "      <th>17</th>\n",
       "      <td>lognormal</td>\n",
       "      <td>weibull</td>\n",
       "      <td>200.0</td>\n",
       "      <td>0.00</td>\n",
       "      <td>0.06</td>\n",
       "    </tr>\n",
       "  </tbody>\n",
       "</table>\n",
       "</div>"
      ],
      "text/plain": [
       "   model_data  model_fit     ss  model_probability  model_probability_ABC\n",
       "0   lognormal      gamma   25.0               0.44                   0.10\n",
       "1   lognormal      gamma   50.0               0.27                   0.08\n",
       "2   lognormal      gamma   75.0               0.06                   0.10\n",
       "3   lognormal      gamma  100.0               0.01                   0.09\n",
       "4   lognormal      gamma  150.0               0.00                   0.07\n",
       "5   lognormal      gamma  200.0               0.00                   0.07\n",
       "6   lognormal  lognormal   25.0               0.17                   0.83\n",
       "7   lognormal  lognormal   50.0               0.60                   0.83\n",
       "8   lognormal  lognormal   75.0               0.93                   0.82\n",
       "9   lognormal  lognormal  100.0               0.99                   0.84\n",
       "10  lognormal  lognormal  150.0               1.00                   0.85\n",
       "11  lognormal  lognormal  200.0               1.00                   0.87\n",
       "12  lognormal    weibull   25.0               0.39                   0.07\n",
       "13  lognormal    weibull   50.0               0.13                   0.09\n",
       "14  lognormal    weibull   75.0               0.01                   0.08\n",
       "15  lognormal    weibull  100.0               0.00                   0.07\n",
       "16  lognormal    weibull  150.0               0.00                   0.08\n",
       "17  lognormal    weibull  200.0               0.00                   0.06"
      ]
     },
     "execution_count": 9,
     "metadata": {},
     "output_type": "execute_result"
    },
    {
     "data": {
      "application/javascript": [
       "\n",
       "            setTimeout(function() {\n",
       "                var nbb_cell_id = 9;\n",
       "                var nbb_unformatted_code = \"model_proba = pd.merge(\\n    Bayesian_Summary_2[[\\\"model_data\\\", \\\"model_fit\\\", \\\"ss\\\", \\\"model_probability\\\"]], model_proba_abc, how=\\\"left\\\", \\n    on=[\\\"model_data\\\", \\\"model_fit\\\", \\\"ss\\\"]\\n).round(2)\\nmodel_proba\";\n",
       "                var nbb_formatted_code = \"model_proba = pd.merge(\\n    Bayesian_Summary_2[[\\\"model_data\\\", \\\"model_fit\\\", \\\"ss\\\", \\\"model_probability\\\"]],\\n    model_proba_abc,\\n    how=\\\"left\\\",\\n    on=[\\\"model_data\\\", \\\"model_fit\\\", \\\"ss\\\"],\\n).round(2)\\nmodel_proba\";\n",
       "                var nbb_cells = Jupyter.notebook.get_cells();\n",
       "                for (var i = 0; i < nbb_cells.length; ++i) {\n",
       "                    if (nbb_cells[i].input_prompt_number == nbb_cell_id) {\n",
       "                        if (nbb_cells[i].get_text() == nbb_unformatted_code) {\n",
       "                             nbb_cells[i].set_text(nbb_formatted_code);\n",
       "                        }\n",
       "                        break;\n",
       "                    }\n",
       "                }\n",
       "            }, 500);\n",
       "            "
      ],
      "text/plain": [
       "<IPython.core.display.Javascript object>"
      ]
     },
     "metadata": {},
     "output_type": "display_data"
    }
   ],
   "source": [
    "model_proba = pd.merge(\n",
    "    Bayesian_Summary_2[[\"model_data\", \"model_fit\", \"ss\", \"model_probability\"]],\n",
    "    model_proba_abc,\n",
    "    how=\"left\",\n",
    "    on=[\"model_data\", \"model_fit\", \"ss\"],\n",
    ").round(2)\n",
    "model_proba"
   ]
  },
  {
   "cell_type": "code",
   "execution_count": 10,
   "metadata": {},
   "outputs": [
    {
     "name": "stdout",
     "output_type": "stream",
     "text": [
      "\\begin{tabular}{lrrrrrr}\n",
      "\\toprule\n",
      "{} & \\multicolumn{3}{l}{model\\_probability} & \\multicolumn{3}{l}{model\\_probability\\_ABC} \\\\\n",
      "model\\_fit &             gamma & lognormal & weibull &                 gamma & lognormal & weibull \\\\\n",
      "ss    &                   &           &         &                       &           &         \\\\\n",
      "\\midrule\n",
      "25.0  &              0.44 &      0.17 &    0.39 &                  0.10 &      0.83 &    0.07 \\\\\n",
      "50.0  &              0.27 &      0.60 &    0.13 &                  0.08 &      0.83 &    0.09 \\\\\n",
      "75.0  &              0.06 &      0.93 &    0.01 &                  0.10 &      0.82 &    0.08 \\\\\n",
      "100.0 &              0.01 &      0.99 &    0.00 &                  0.09 &      0.84 &    0.07 \\\\\n",
      "150.0 &              0.00 &      1.00 &    0.00 &                  0.07 &      0.85 &    0.08 \\\\\n",
      "200.0 &              0.00 &      1.00 &    0.00 &                  0.07 &      0.87 &    0.06 \\\\\n",
      "\\bottomrule\n",
      "\\end{tabular}\n",
      "\n"
     ]
    },
    {
     "data": {
      "application/javascript": [
       "\n",
       "            setTimeout(function() {\n",
       "                var nbb_cell_id = 10;\n",
       "                var nbb_unformatted_code = \"print(\\n    pd.pivot_table(\\n        model_proba,\\n        values=[\\\"model_probability\\\", \\\"model_probability_ABC\\\"],\\n        index=[\\\"ss\\\"],\\n        columns=[\\\"model_fit\\\"],\\n        aggfunc={\\\"model_probability\\\": np.mean, \\\"model_probability_ABC\\\": np.mean},\\n    ).to_latex()\\n)\";\n",
       "                var nbb_formatted_code = \"print(\\n    pd.pivot_table(\\n        model_proba,\\n        values=[\\\"model_probability\\\", \\\"model_probability_ABC\\\"],\\n        index=[\\\"ss\\\"],\\n        columns=[\\\"model_fit\\\"],\\n        aggfunc={\\\"model_probability\\\": np.mean, \\\"model_probability_ABC\\\": np.mean},\\n    ).to_latex()\\n)\";\n",
       "                var nbb_cells = Jupyter.notebook.get_cells();\n",
       "                for (var i = 0; i < nbb_cells.length; ++i) {\n",
       "                    if (nbb_cells[i].input_prompt_number == nbb_cell_id) {\n",
       "                        if (nbb_cells[i].get_text() == nbb_unformatted_code) {\n",
       "                             nbb_cells[i].set_text(nbb_formatted_code);\n",
       "                        }\n",
       "                        break;\n",
       "                    }\n",
       "                }\n",
       "            }, 500);\n",
       "            "
      ],
      "text/plain": [
       "<IPython.core.display.Javascript object>"
      ]
     },
     "metadata": {},
     "output_type": "display_data"
    }
   ],
   "source": [
    "print(\n",
    "    pd.pivot_table(\n",
    "        model_proba,\n",
    "        values=[\"model_probability\", \"model_probability_ABC\"],\n",
    "        index=[\"ss\"],\n",
    "        columns=[\"model_fit\"],\n",
    "        aggfunc={\"model_probability\": np.mean, \"model_probability_ABC\": np.mean},\n",
    "    ).to_latex()\n",
    ")"
   ]
  },
  {
   "cell_type": "code",
   "execution_count": null,
   "metadata": {},
   "outputs": [],
   "source": []
  }
 ],
 "metadata": {
  "kernelspec": {
   "display_name": "Python 3",
   "language": "python",
   "name": "python3"
  },
  "language_info": {
   "codemirror_mode": {
    "name": "ipython",
    "version": 3
   },
   "file_extension": ".py",
   "mimetype": "text/x-python",
   "name": "python",
   "nbconvert_exporter": "python",
   "pygments_lexer": "ipython3",
   "version": "3.7.7"
  }
 },
 "nbformat": 4,
 "nbformat_minor": 4
}
